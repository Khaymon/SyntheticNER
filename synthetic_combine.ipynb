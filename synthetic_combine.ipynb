{
 "cells": [
  {
   "cell_type": "code",
   "execution_count": 2,
   "metadata": {},
   "outputs": [],
   "source": [
    "import pandas as pd\n",
    "import re\n",
    "from sklearn.model_selection import train_test_split\n",
    "from nltk.tokenize import word_tokenize"
   ]
  },
  {
   "cell_type": "markdown",
   "metadata": {},
   "source": [
    "Все, что понадобится - только pandas. Файлы устроены следующим образом:\n",
    "\n",
    "1. PER: PER_sents_TEN - предложения с пропусками. Пропуски могут быть [male] или [female]. Все колонки названы по языкам. PER_names - соответствующие имена, в дополнительной колонке gender указывается пол имени. \n",
    "2. LOC: LOC_NOM_1984sents - контексты. Пропуски выглядят всегда как [???], все колонки названы по языкам. LOC_NOM_names - соответствующие имена. \n",
    "3. ORG: ORG_1095sents - предложения,  пропуски тоже [???]. ORG_names - имена. \n",
    "\n",
    "Все датафреймы полностью параллельны, все колонки называются одинаково (но порядок может быть разный). \n",
    "\n",
    "Разметку можно добавлять по-разному, как удобно, но добавляться она должна в момент, когда собираются предложения. Можно сперва все токенизировать (по словам или BPE сразу), а потом собирать. Я написала только примерный код, чтобы сама идея была наглядной. Он просто собирает предложения в сырые строки без разметки. \n",
    "\n",
    "Можно совмещать имена с предложениями по уникальности, такой код написан ниже. "
   ]
  },
  {
   "cell_type": "code",
   "execution_count": 30,
   "metadata": {},
   "outputs": [],
   "source": [
    "def replacer(sents, names, r, entity):\n",
    "    for index, row in sents.iterrows():\n",
    "        for column in sents.columns:\n",
    "            name = names.loc[index % len(names), column]\n",
    "            name = name.lstrip().rstrip()\n",
    "            name += \" \"\n",
    "            if (entity == \"person\"):\n",
    "                name = re.sub(' ', \" |P| \", name)\n",
    "            elif entity == \"organization\":\n",
    "                name = re.sub(' ', \" |O| \", name)\n",
    "            elif entity == \"location\":\n",
    "                name = re.sub(' ', \" |L| \", name)\n",
    "            else:\n",
    "                raise NotImplementedError\n",
    "\n",
    "            row[column] = row[column].replace(r, name)"
   ]
  },
  {
   "cell_type": "code",
   "execution_count": 33,
   "metadata": {},
   "outputs": [],
   "source": [
    "RANDOM_STATE = 42\n",
    "TEST_SIZE = 0.2\n",
    "\n",
    "person_names = pd.read_csv('readyTEN/PER_names.csv')\n",
    "person_sents = pd.read_csv('readyTEN/PER_sents_TEN.csv')\n",
    "\n",
    "train_person_names, test_person_names = train_test_split(person_names, test_size=TEST_SIZE, random_state=RANDOM_STATE)\n",
    "train_person_sents, test_person_sents = train_test_split(person_sents, test_size=TEST_SIZE, random_state=RANDOM_STATE)"
   ]
  },
  {
   "cell_type": "code",
   "execution_count": 34,
   "metadata": {},
   "outputs": [],
   "source": [
    "def merge_sents_names(sents, names):\n",
    "    sents['gender'] = sents['pl'].apply(lambda x: 'f' if '[female]' in x else 'm')\n",
    "    malenames = names[names.gender == 'm'].reset_index(drop=True)\n",
    "    malesents = sents[sents.gender == 'm'].reset_index(drop=True)\n",
    "    replacer(malesents, malenames, '[male]', entity=\"person\")\n",
    "    femalenames = names[names.gender == 'f'].reset_index(drop=True)\n",
    "    femalesents = sents[sents.gender == 'f'].reset_index(drop=True)\n",
    "    replacer(femalesents, femalenames, '[female]', entity=\"person\")\n",
    "    sents = pd.concat([malesents, femalesents])\n",
    "    sents = sents.sample(frac=1).reset_index(drop=True)\n",
    "    \n",
    "    return sents"
   ]
  },
  {
   "cell_type": "code",
   "execution_count": 35,
   "metadata": {},
   "outputs": [],
   "source": [
    "train_person_sents = merge_sents_names(train_person_sents, train_person_names)\n",
    "test_person_sents = merge_sents_names(test_person_sents, test_person_names)"
   ]
  },
  {
   "cell_type": "code",
   "execution_count": 38,
   "metadata": {},
   "outputs": [],
   "source": [
    "train_person_sents.to_csv('train_person_sents.csv')\n",
    "test_person_sents.to_csv('test_person_sents.csv')"
   ]
  },
  {
   "cell_type": "code",
   "execution_count": 18,
   "metadata": {},
   "outputs": [],
   "source": [
    "# LOC, nom\n",
    "location_names = pd.read_csv('readyTEN/LOC_NOM_names.csv')\n",
    "location_sents = pd.read_csv('readyTEN/LOC_NOM_1984sents.csv')\n",
    "\n",
    "train_location_names, test_location_names = train_test_split(location_names, test_size=TEST_SIZE, random_state=RANDOM_STATE)\n",
    "train_location_sents, test_location_sents = train_test_split(location_sents, test_size=TEST_SIZE, random_state=RANDOM_STATE)\n",
    "\n",
    "train_location_sents.reset_index(drop=True, inplace=True)\n",
    "test_location_sents.reset_index(drop=True, inplace=True)\n",
    "train_location_names.reset_index(drop=True, inplace=True)\n",
    "test_location_names.reset_index(drop=True, inplace=True)\n",
    "\n",
    "replacer(train_location_sents, train_location_names, '[???]', entity=\"location\")\n",
    "replacer(test_location_sents, test_location_names, '[???]', entity=\"location\")"
   ]
  },
  {
   "cell_type": "code",
   "execution_count": 40,
   "metadata": {},
   "outputs": [],
   "source": [
    "train_location_sents.to_csv('train_location_sents.csv')\n",
    "test_location_sents.to_csv('test_location_sents.csv')"
   ]
  },
  {
   "cell_type": "code",
   "execution_count": 31,
   "metadata": {},
   "outputs": [],
   "source": [
    "# ORG\n",
    "organization_names = pd.read_csv('readyTEN/ORG_names.csv')\n",
    "organization_sents = pd.read_csv('readyTEN/ORG_1095sents.csv')\n",
    "\n",
    "train_organization_names, test_organization_names = train_test_split(organization_names, test_size=TEST_SIZE, random_state=RANDOM_STATE)\n",
    "train_organization_sents, test_organization_sents = train_test_split(organization_sents, test_size=TEST_SIZE, random_state=RANDOM_STATE)\n",
    "\n",
    "train_organization_sents.reset_index(drop=True, inplace=True)\n",
    "test_organization_sents.reset_index(drop=True, inplace=True)\n",
    "train_organization_names.reset_index(drop=True, inplace=True)\n",
    "test_organization_names.reset_index(drop=True, inplace=True)\n",
    "\n",
    "replacer(train_organization_sents, train_organization_names, '[???]', entity=\"organization\")\n",
    "replacer(test_organization_sents, test_organization_names, '[???]', entity=\"organization\")"
   ]
  },
  {
   "cell_type": "code",
   "execution_count": 41,
   "metadata": {},
   "outputs": [],
   "source": [
    "train_organization_sents.to_csv('train_organization_sents.csv')\n",
    "test_organization_sents.to_csv('test_organization_sents.csv')"
   ]
  },
  {
   "cell_type": "code",
   "execution_count": 44,
   "metadata": {},
   "outputs": [],
   "source": [
    "train_sents = pd.concat([train_person_sents, train_location_sents, train_organization_sents])\n",
    "test_sents = pd.concat([test_person_sents, test_location_sents, test_organization_sents])"
   ]
  },
  {
   "cell_type": "code",
   "execution_count": 45,
   "metadata": {},
   "outputs": [],
   "source": [
    "train_sents.to_csv(\"train_sents.csv\")\n",
    "test_sents.to_csv(\"test_sents.csv\")"
   ]
  },
  {
   "cell_type": "code",
   "execution_count": null,
   "metadata": {},
   "outputs": [],
   "source": []
  }
 ],
 "metadata": {
  "kernelspec": {
   "display_name": "Python 3.9.15 ('base')",
   "language": "python",
   "name": "python3"
  },
  "language_info": {
   "codemirror_mode": {
    "name": "ipython",
    "version": 3
   },
   "file_extension": ".py",
   "mimetype": "text/x-python",
   "name": "python",
   "nbconvert_exporter": "python",
   "pygments_lexer": "ipython3",
   "version": "3.9.15"
  },
  "orig_nbformat": 4,
  "vscode": {
   "interpreter": {
    "hash": "ad2bdc8ecc057115af97d19610ffacc2b4e99fae6737bb82f5d7fb13d2f2c186"
   }
  }
 },
 "nbformat": 4,
 "nbformat_minor": 2
}
