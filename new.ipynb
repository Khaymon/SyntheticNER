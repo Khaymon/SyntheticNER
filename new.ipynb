{
 "cells": [
  {
   "cell_type": "code",
   "execution_count": 1,
   "metadata": {},
   "outputs": [],
   "source": [
    "import pandas as pd\n",
    "import json\n",
    "import wikipediaapi\n",
    "import time\n",
    "import re\n",
    "from ipywidgets import IntProgress\n",
    "from IPython.display import display\n",
    "from random import shuffle, randint, choice\n",
    "from collections import Counter\n",
    "from googletrans import Translator\n",
    "import pickle"
   ]
  },
  {
   "cell_type": "code",
   "execution_count": 2,
   "metadata": {},
   "outputs": [],
   "source": [
    "def get_parallels(targets, lrs, ld):\n",
    "    wiki_wiki = wikipediaapi.Wikipedia(ld)\n",
    "    res = []\n",
    "    for target in targets:\n",
    "        middle = {ld: target}\n",
    "        page = wiki_wiki.page(target)\n",
    "        langlinks = page.langlinks\n",
    "        for lr in lrs:\n",
    "            v = langlinks.get(lr)\n",
    "            if v:\n",
    "                middle[lr] = langlinks.get(lr).title\n",
    "            else:\n",
    "                middle[lr] = None\n",
    "        res.append(middle)\n",
    "    return res"
   ]
  },
  {
   "cell_type": "code",
   "execution_count": null,
   "metadata": {},
   "outputs": [],
   "source": [
    "orgnames = pickle.load(open('names/ru_org_332', 'rb'))\n",
    "orgnames"
   ]
  },
  {
   "cell_type": "code",
   "execution_count": 31,
   "metadata": {},
   "outputs": [
    {
     "data": {
      "text/html": [
       "<div>\n",
       "<style scoped>\n",
       "    .dataframe tbody tr th:only-of-type {\n",
       "        vertical-align: middle;\n",
       "    }\n",
       "\n",
       "    .dataframe tbody tr th {\n",
       "        vertical-align: top;\n",
       "    }\n",
       "\n",
       "    .dataframe thead th {\n",
       "        text-align: right;\n",
       "    }\n",
       "</style>\n",
       "<table border=\"1\" class=\"dataframe\">\n",
       "  <thead>\n",
       "    <tr style=\"text-align: right;\">\n",
       "      <th></th>\n",
       "      <th>Unnamed: 0</th>\n",
       "      <th>entity</th>\n",
       "      <th>number</th>\n",
       "      <th>gender</th>\n",
       "    </tr>\n",
       "  </thead>\n",
       "  <tbody>\n",
       "    <tr>\n",
       "      <th>0</th>\n",
       "      <td>0</td>\n",
       "      <td>Болгарская рабочая социал-демократическая парт...</td>\n",
       "      <td>Sing</td>\n",
       "      <td>Fem</td>\n",
       "    </tr>\n",
       "    <tr>\n",
       "      <th>1</th>\n",
       "      <td>1</td>\n",
       "      <td>Национальная прогрессивная партия</td>\n",
       "      <td>Sing</td>\n",
       "      <td>Fem</td>\n",
       "    </tr>\n",
       "    <tr>\n",
       "      <th>2</th>\n",
       "      <td>2</td>\n",
       "      <td>Правительство при главнокомандующем ВСЮР</td>\n",
       "      <td>Sing</td>\n",
       "      <td>Neut</td>\n",
       "    </tr>\n",
       "    <tr>\n",
       "      <th>3</th>\n",
       "      <td>3</td>\n",
       "      <td>Афинское археологическое общество</td>\n",
       "      <td>Sing</td>\n",
       "      <td>Neut</td>\n",
       "    </tr>\n",
       "    <tr>\n",
       "      <th>4</th>\n",
       "      <td>4</td>\n",
       "      <td>Немецкая христианско-социальная народная партия</td>\n",
       "      <td>Sing</td>\n",
       "      <td>Fem</td>\n",
       "    </tr>\n",
       "  </tbody>\n",
       "</table>\n",
       "</div>"
      ],
      "text/plain": [
       "   Unnamed: 0                                             entity number gender\n",
       "0           0  Болгарская рабочая социал-демократическая парт...   Sing    Fem\n",
       "1           1                  Национальная прогрессивная партия   Sing    Fem\n",
       "2           2           Правительство при главнокомандующем ВСЮР   Sing   Neut\n",
       "3           3                  Афинское археологическое общество   Sing   Neut\n",
       "4           4    Немецкая христианско-социальная народная партия   Sing    Fem"
      ]
     },
     "execution_count": 31,
     "metadata": {},
     "output_type": "execute_result"
    }
   ],
   "source": [
    "orgnames = pd.read_csv(r'data\\S3\\ORG\\ru_3000_ready.csv')\n",
    "orgnames.head()"
   ]
  },
  {
   "cell_type": "code",
   "execution_count": 4,
   "metadata": {},
   "outputs": [],
   "source": [
    "res = get_parallels(orgnames, ['en', 'pl', 'be', 'uk', 'bg', 'cs', 'ca', 'es', 'tr', 'sl'], 'ru')"
   ]
  },
  {
   "cell_type": "code",
   "execution_count": 5,
   "metadata": {},
   "outputs": [
    {
     "data": {
      "text/html": [
       "<div>\n",
       "<style scoped>\n",
       "    .dataframe tbody tr th:only-of-type {\n",
       "        vertical-align: middle;\n",
       "    }\n",
       "\n",
       "    .dataframe tbody tr th {\n",
       "        vertical-align: top;\n",
       "    }\n",
       "\n",
       "    .dataframe thead th {\n",
       "        text-align: right;\n",
       "    }\n",
       "</style>\n",
       "<table border=\"1\" class=\"dataframe\">\n",
       "  <thead>\n",
       "    <tr style=\"text-align: right;\">\n",
       "      <th></th>\n",
       "      <th>ru</th>\n",
       "      <th>en</th>\n",
       "      <th>pl</th>\n",
       "      <th>be</th>\n",
       "      <th>uk</th>\n",
       "      <th>bg</th>\n",
       "      <th>cs</th>\n",
       "      <th>ca</th>\n",
       "      <th>es</th>\n",
       "      <th>tr</th>\n",
       "      <th>sl</th>\n",
       "    </tr>\n",
       "  </thead>\n",
       "  <tbody>\n",
       "    <tr>\n",
       "      <th>0</th>\n",
       "      <td>Аякс (футбольный клуб, Амстердам)</td>\n",
       "      <td>AFC Ajax</td>\n",
       "      <td>AFC Ajax</td>\n",
       "      <td>ФК Аякс Амстэрдам</td>\n",
       "      <td>Аякс (Амстердам)</td>\n",
       "      <td>АФК Аякс</td>\n",
       "      <td>AFC Ajax</td>\n",
       "      <td>Amsterdamsche Football Club Ajax</td>\n",
       "      <td>Ajax de Ámsterdam</td>\n",
       "      <td>AFC Ajax</td>\n",
       "      <td>AFC Ajax</td>\n",
       "    </tr>\n",
       "    <tr>\n",
       "      <th>1</th>\n",
       "      <td>Железная гвардия</td>\n",
       "      <td>Iron Guard</td>\n",
       "      <td>Żelazna Gwardia</td>\n",
       "      <td>Жалезная гвардыя</td>\n",
       "      <td>Залізна Гвардія</td>\n",
       "      <td>Желязна гвардия</td>\n",
       "      <td>Železná garda</td>\n",
       "      <td>Guàrdia de Ferro</td>\n",
       "      <td>Guardia de Hierro (Rumania)</td>\n",
       "      <td>Demir Muhafızlar</td>\n",
       "      <td>Železna garda</td>\n",
       "    </tr>\n",
       "    <tr>\n",
       "      <th>2</th>\n",
       "      <td>Alfa Romeo</td>\n",
       "      <td>Alfa Romeo</td>\n",
       "      <td>Alfa Romeo</td>\n",
       "      <td>Alfa Romeo</td>\n",
       "      <td>Alfa Romeo</td>\n",
       "      <td>Алфа Ромео</td>\n",
       "      <td>Alfa Romeo</td>\n",
       "      <td>Alfa Romeo</td>\n",
       "      <td>Alfa Romeo</td>\n",
       "      <td>Alfa Romeo</td>\n",
       "      <td>Alfa Romeo</td>\n",
       "    </tr>\n",
       "    <tr>\n",
       "      <th>3</th>\n",
       "      <td>Коминформ</td>\n",
       "      <td>Cominform</td>\n",
       "      <td>Kominform</td>\n",
       "      <td>Камуністычнае інфармацыйнае бюро</td>\n",
       "      <td>Комінформ</td>\n",
       "      <td>Коминформбюро</td>\n",
       "      <td>Kominforma</td>\n",
       "      <td>Kominform</td>\n",
       "      <td>Kominform</td>\n",
       "      <td>Kominform</td>\n",
       "      <td>Informbiro</td>\n",
       "    </tr>\n",
       "    <tr>\n",
       "      <th>4</th>\n",
       "      <td>Атланта Хокс</td>\n",
       "      <td>Atlanta Hawks</td>\n",
       "      <td>Atlanta Hawks</td>\n",
       "      <td>Атланта Хокс</td>\n",
       "      <td>Атланта Гокс</td>\n",
       "      <td>Атланта Хоукс</td>\n",
       "      <td>Atlanta Hawks</td>\n",
       "      <td>Atlanta Hawks</td>\n",
       "      <td>Atlanta Hawks</td>\n",
       "      <td>Atlanta Hawks</td>\n",
       "      <td>Atlanta Hawks</td>\n",
       "    </tr>\n",
       "  </tbody>\n",
       "</table>\n",
       "</div>"
      ],
      "text/plain": [
       "                                  ru             en               pl  \\\n",
       "0  Аякс (футбольный клуб, Амстердам)       AFC Ajax         AFC Ajax   \n",
       "1                   Железная гвардия     Iron Guard  Żelazna Gwardia   \n",
       "2                         Alfa Romeo     Alfa Romeo       Alfa Romeo   \n",
       "3                          Коминформ      Cominform        Kominform   \n",
       "4                       Атланта Хокс  Atlanta Hawks    Atlanta Hawks   \n",
       "\n",
       "                                 be                uk               bg  \\\n",
       "0                 ФК Аякс Амстэрдам  Аякс (Амстердам)         АФК Аякс   \n",
       "1                  Жалезная гвардыя   Залізна Гвардія  Желязна гвардия   \n",
       "2                        Alfa Romeo        Alfa Romeo       Алфа Ромео   \n",
       "3  Камуністычнае інфармацыйнае бюро         Комінформ    Коминформбюро   \n",
       "4                      Атланта Хокс      Атланта Гокс    Атланта Хоукс   \n",
       "\n",
       "              cs                                ca  \\\n",
       "0       AFC Ajax  Amsterdamsche Football Club Ajax   \n",
       "1  Železná garda                  Guàrdia de Ferro   \n",
       "2     Alfa Romeo                        Alfa Romeo   \n",
       "3     Kominforma                         Kominform   \n",
       "4  Atlanta Hawks                     Atlanta Hawks   \n",
       "\n",
       "                            es                tr             sl  \n",
       "0            Ajax de Ámsterdam          AFC Ajax       AFC Ajax  \n",
       "1  Guardia de Hierro (Rumania)  Demir Muhafızlar  Železna garda  \n",
       "2                   Alfa Romeo        Alfa Romeo     Alfa Romeo  \n",
       "3                    Kominform         Kominform     Informbiro  \n",
       "4                Atlanta Hawks     Atlanta Hawks  Atlanta Hawks  "
      ]
     },
     "execution_count": 5,
     "metadata": {},
     "output_type": "execute_result"
    }
   ],
   "source": [
    "names = pd.DataFrame(res)\n",
    "names.head()"
   ]
  },
  {
   "cell_type": "code",
   "execution_count": 11,
   "metadata": {},
   "outputs": [],
   "source": [
    "names = pd.read_csv(r'readyTEN\\PER_names.csv')"
   ]
  },
  {
   "cell_type": "code",
   "execution_count": 12,
   "metadata": {},
   "outputs": [
    {
     "data": {
      "text/html": [
       "<div>\n",
       "<style scoped>\n",
       "    .dataframe tbody tr th:only-of-type {\n",
       "        vertical-align: middle;\n",
       "    }\n",
       "\n",
       "    .dataframe tbody tr th {\n",
       "        vertical-align: top;\n",
       "    }\n",
       "\n",
       "    .dataframe thead th {\n",
       "        text-align: right;\n",
       "    }\n",
       "</style>\n",
       "<table border=\"1\" class=\"dataframe\">\n",
       "  <thead>\n",
       "    <tr style=\"text-align: right;\">\n",
       "      <th></th>\n",
       "      <th>sl</th>\n",
       "      <th>ru</th>\n",
       "      <th>pl</th>\n",
       "      <th>be</th>\n",
       "      <th>uk</th>\n",
       "      <th>bg</th>\n",
       "      <th>cs</th>\n",
       "      <th>ca</th>\n",
       "      <th>es</th>\n",
       "      <th>tr</th>\n",
       "      <th>en</th>\n",
       "      <th>gender</th>\n",
       "    </tr>\n",
       "  </thead>\n",
       "  <tbody>\n",
       "    <tr>\n",
       "      <th>0</th>\n",
       "      <td>Vincenzo Bellini</td>\n",
       "      <td>Винченцо Беллини</td>\n",
       "      <td>Vincenzo Bellini</td>\n",
       "      <td>Вінчэнца Беліні</td>\n",
       "      <td>Вінчэнца Беліні</td>\n",
       "      <td>Винченцо Белини</td>\n",
       "      <td>Vincenzo Bellini</td>\n",
       "      <td>Vincenzo Bellini</td>\n",
       "      <td>Vincenzo Bellini</td>\n",
       "      <td>Vincenzo Bellini</td>\n",
       "      <td>Vincenzo Bellini</td>\n",
       "      <td>m</td>\n",
       "    </tr>\n",
       "    <tr>\n",
       "      <th>1</th>\n",
       "      <td>Mircea I. Vlaški</td>\n",
       "      <td>Мирча I Старый</td>\n",
       "      <td>Mircza Stary</td>\n",
       "      <td>Мірча I Стары</td>\n",
       "      <td>Мірча I Стары</td>\n",
       "      <td>Мирча Стари</td>\n",
       "      <td>Mircea I.</td>\n",
       "      <td>Mircea I de Valàquia</td>\n",
       "      <td>Mircea I de Valaquia</td>\n",
       "      <td>I. Mircea</td>\n",
       "      <td>Mircea the Elder</td>\n",
       "      <td>m</td>\n",
       "    </tr>\n",
       "    <tr>\n",
       "      <th>2</th>\n",
       "      <td>Erwin Rommel</td>\n",
       "      <td>Эрвин Роммель</td>\n",
       "      <td>Erwin Rommel</td>\n",
       "      <td>Эрвін Ромель</td>\n",
       "      <td>Эрвін Ромель</td>\n",
       "      <td>Ервин Ромел</td>\n",
       "      <td>Erwin Rommel</td>\n",
       "      <td>Erwin Rommel</td>\n",
       "      <td>Erwin Rommel</td>\n",
       "      <td>Erwin Rommel</td>\n",
       "      <td>Erwin Rommel</td>\n",
       "      <td>m</td>\n",
       "    </tr>\n",
       "    <tr>\n",
       "      <th>3</th>\n",
       "      <td>Ivan II. Komnen</td>\n",
       "      <td>Иоанн II Комнин</td>\n",
       "      <td>Jan II Komnen</td>\n",
       "      <td>Іаан II Камнін</td>\n",
       "      <td>Іаан II Камнін</td>\n",
       "      <td>Йоан II Комнин</td>\n",
       "      <td>Jan II. Komnenos</td>\n",
       "      <td>Joan II Comnè</td>\n",
       "      <td>Juan II Comneno</td>\n",
       "      <td>II. İoannis</td>\n",
       "      <td>John II Komnenos</td>\n",
       "      <td>m</td>\n",
       "    </tr>\n",
       "    <tr>\n",
       "      <th>4</th>\n",
       "      <td>Štefan V. Ogrski</td>\n",
       "      <td>Иштван V</td>\n",
       "      <td>Stefan V węgierski</td>\n",
       "      <td>Іштван V</td>\n",
       "      <td>Іштван V</td>\n",
       "      <td>Ищван V</td>\n",
       "      <td>Štěpán V. Uherský</td>\n",
       "      <td>Esteve V d'Hongria</td>\n",
       "      <td>Esteban V de Hungría</td>\n",
       "      <td>V. István</td>\n",
       "      <td>Stephen V of Hungary</td>\n",
       "      <td>m</td>\n",
       "    </tr>\n",
       "  </tbody>\n",
       "</table>\n",
       "</div>"
      ],
      "text/plain": [
       "                 sl                ru                  pl               be  \\\n",
       "0  Vincenzo Bellini  Винченцо Беллини    Vincenzo Bellini  Вінчэнца Беліні   \n",
       "1  Mircea I. Vlaški    Мирча I Старый        Mircza Stary    Мірча I Стары   \n",
       "2      Erwin Rommel     Эрвин Роммель        Erwin Rommel     Эрвін Ромель   \n",
       "3   Ivan II. Komnen   Иоанн II Комнин       Jan II Komnen   Іаан II Камнін   \n",
       "4  Štefan V. Ogrski          Иштван V  Stefan V węgierski         Іштван V   \n",
       "\n",
       "                uk               bg                 cs                    ca  \\\n",
       "0  Вінчэнца Беліні  Винченцо Белини   Vincenzo Bellini      Vincenzo Bellini   \n",
       "1    Мірча I Стары      Мирча Стари          Mircea I.  Mircea I de Valàquia   \n",
       "2     Эрвін Ромель      Ервин Ромел       Erwin Rommel          Erwin Rommel   \n",
       "3   Іаан II Камнін   Йоан II Комнин   Jan II. Komnenos         Joan II Comnè   \n",
       "4         Іштван V          Ищван V  Štěpán V. Uherský    Esteve V d'Hongria   \n",
       "\n",
       "                     es                tr                    en gender  \n",
       "0      Vincenzo Bellini  Vincenzo Bellini      Vincenzo Bellini      m  \n",
       "1  Mircea I de Valaquia         I. Mircea      Mircea the Elder      m  \n",
       "2          Erwin Rommel      Erwin Rommel          Erwin Rommel      m  \n",
       "3       Juan II Comneno       II. İoannis      John II Komnenos      m  \n",
       "4  Esteban V de Hungría         V. István  Stephen V of Hungary      m  "
      ]
     },
     "execution_count": 12,
     "metadata": {},
     "output_type": "execute_result"
    }
   ],
   "source": [
    "def brackets(name):\n",
    "    if '(' in name:\n",
    "        return name[:name.find('(')]\n",
    "    return name\n",
    "\n",
    "for col in names.columns:\n",
    "    names[col] = names[col].apply(brackets)\n",
    "names.head()"
   ]
  },
  {
   "cell_type": "code",
   "execution_count": 13,
   "metadata": {},
   "outputs": [],
   "source": [
    "names.to_csv('PER_names.csv', index=False)"
   ]
  },
  {
   "cell_type": "code",
   "execution_count": 4,
   "metadata": {},
   "outputs": [
    {
     "data": {
      "text/html": [
       "<div>\n",
       "<style scoped>\n",
       "    .dataframe tbody tr th:only-of-type {\n",
       "        vertical-align: middle;\n",
       "    }\n",
       "\n",
       "    .dataframe tbody tr th {\n",
       "        vertical-align: top;\n",
       "    }\n",
       "\n",
       "    .dataframe thead th {\n",
       "        text-align: right;\n",
       "    }\n",
       "</style>\n",
       "<table border=\"1\" class=\"dataframe\">\n",
       "  <thead>\n",
       "    <tr style=\"text-align: right;\">\n",
       "      <th></th>\n",
       "      <th>Unnamed: 0</th>\n",
       "      <th>entity</th>\n",
       "      <th>gender</th>\n",
       "    </tr>\n",
       "  </thead>\n",
       "  <tbody>\n",
       "    <tr>\n",
       "      <th>0</th>\n",
       "      <td>0</td>\n",
       "      <td>John Guise Cowley</td>\n",
       "      <td>m</td>\n",
       "    </tr>\n",
       "    <tr>\n",
       "      <th>1</th>\n",
       "      <td>1</td>\n",
       "      <td>Ivan Zajc</td>\n",
       "      <td>m</td>\n",
       "    </tr>\n",
       "    <tr>\n",
       "      <th>2</th>\n",
       "      <td>2</td>\n",
       "      <td>Herbert Cecil Duncan</td>\n",
       "      <td>m</td>\n",
       "    </tr>\n",
       "    <tr>\n",
       "      <th>3</th>\n",
       "      <td>3</td>\n",
       "      <td>Jules-Jean-Baptiste Chiara</td>\n",
       "      <td>m</td>\n",
       "    </tr>\n",
       "    <tr>\n",
       "      <th>4</th>\n",
       "      <td>4</td>\n",
       "      <td>Franc Zorko</td>\n",
       "      <td>m</td>\n",
       "    </tr>\n",
       "  </tbody>\n",
       "</table>\n",
       "</div>"
      ],
      "text/plain": [
       "   Unnamed: 0                      entity gender\n",
       "0           0           John Guise Cowley      m\n",
       "1           1                   Ivan Zajc      m\n",
       "2           2        Herbert Cecil Duncan      m\n",
       "3           3  Jules-Jean-Baptiste Chiara      m\n",
       "4           4                 Franc Zorko      m"
      ]
     },
     "execution_count": 4,
     "metadata": {},
     "output_type": "execute_result"
    }
   ],
   "source": [
    "slnames = pd.read_csv(r'data\\S3\\PER\\sl.csv')\n",
    "slnames.head()"
   ]
  },
  {
   "cell_type": "code",
   "execution_count": 5,
   "metadata": {},
   "outputs": [],
   "source": [
    "res = get_parallels(slnames.entity, ['ru', 'pl', 'be', 'uk', 'bg', 'cs', 'ca', 'es', 'tr', 'en'], 'sl')"
   ]
  },
  {
   "cell_type": "code",
   "execution_count": 8,
   "metadata": {},
   "outputs": [
    {
     "data": {
      "text/html": [
       "<div>\n",
       "<style scoped>\n",
       "    .dataframe tbody tr th:only-of-type {\n",
       "        vertical-align: middle;\n",
       "    }\n",
       "\n",
       "    .dataframe tbody tr th {\n",
       "        vertical-align: top;\n",
       "    }\n",
       "\n",
       "    .dataframe thead th {\n",
       "        text-align: right;\n",
       "    }\n",
       "</style>\n",
       "<table border=\"1\" class=\"dataframe\">\n",
       "  <thead>\n",
       "    <tr style=\"text-align: right;\">\n",
       "      <th></th>\n",
       "      <th>sl</th>\n",
       "      <th>ru</th>\n",
       "      <th>pl</th>\n",
       "      <th>be</th>\n",
       "      <th>uk</th>\n",
       "      <th>bg</th>\n",
       "      <th>cs</th>\n",
       "      <th>ca</th>\n",
       "      <th>es</th>\n",
       "      <th>tr</th>\n",
       "      <th>en</th>\n",
       "      <th>gender</th>\n",
       "    </tr>\n",
       "  </thead>\n",
       "  <tbody>\n",
       "    <tr>\n",
       "      <th>0</th>\n",
       "      <td>John Guise Cowley</td>\n",
       "      <td>None</td>\n",
       "      <td>None</td>\n",
       "      <td>None</td>\n",
       "      <td>None</td>\n",
       "      <td>None</td>\n",
       "      <td>None</td>\n",
       "      <td>None</td>\n",
       "      <td>None</td>\n",
       "      <td>None</td>\n",
       "      <td>John Cowley (British Army officer)</td>\n",
       "      <td>m</td>\n",
       "    </tr>\n",
       "    <tr>\n",
       "      <th>1</th>\n",
       "      <td>Ivan Zajc</td>\n",
       "      <td>Зайц, Иван</td>\n",
       "      <td>Ivan Zajc</td>\n",
       "      <td>Іван Зайц</td>\n",
       "      <td>Іван Зайц</td>\n",
       "      <td>Иван Зайц</td>\n",
       "      <td>Ivan Zajc</td>\n",
       "      <td>Ivan Zajc</td>\n",
       "      <td>Ivan Zajc</td>\n",
       "      <td>None</td>\n",
       "      <td>Ivan Zajc</td>\n",
       "      <td>m</td>\n",
       "    </tr>\n",
       "    <tr>\n",
       "      <th>2</th>\n",
       "      <td>Herbert Cecil Duncan</td>\n",
       "      <td>None</td>\n",
       "      <td>None</td>\n",
       "      <td>None</td>\n",
       "      <td>None</td>\n",
       "      <td>None</td>\n",
       "      <td>None</td>\n",
       "      <td>None</td>\n",
       "      <td>None</td>\n",
       "      <td>None</td>\n",
       "      <td>Herbert Cecil Duncan</td>\n",
       "      <td>m</td>\n",
       "    </tr>\n",
       "    <tr>\n",
       "      <th>3</th>\n",
       "      <td>Jules-Jean-Baptiste Chiara</td>\n",
       "      <td>None</td>\n",
       "      <td>None</td>\n",
       "      <td>None</td>\n",
       "      <td>None</td>\n",
       "      <td>None</td>\n",
       "      <td>None</td>\n",
       "      <td>None</td>\n",
       "      <td>None</td>\n",
       "      <td>None</td>\n",
       "      <td>None</td>\n",
       "      <td>m</td>\n",
       "    </tr>\n",
       "    <tr>\n",
       "      <th>4</th>\n",
       "      <td>Franc Zorko</td>\n",
       "      <td>None</td>\n",
       "      <td>None</td>\n",
       "      <td>None</td>\n",
       "      <td>None</td>\n",
       "      <td>None</td>\n",
       "      <td>None</td>\n",
       "      <td>None</td>\n",
       "      <td>None</td>\n",
       "      <td>None</td>\n",
       "      <td>None</td>\n",
       "      <td>m</td>\n",
       "    </tr>\n",
       "  </tbody>\n",
       "</table>\n",
       "</div>"
      ],
      "text/plain": [
       "                           sl          ru         pl         be         uk  \\\n",
       "0           John Guise Cowley        None       None       None       None   \n",
       "1                   Ivan Zajc  Зайц, Иван  Ivan Zajc  Іван Зайц  Іван Зайц   \n",
       "2        Herbert Cecil Duncan        None       None       None       None   \n",
       "3  Jules-Jean-Baptiste Chiara        None       None       None       None   \n",
       "4                 Franc Zorko        None       None       None       None   \n",
       "\n",
       "          bg         cs         ca         es    tr  \\\n",
       "0       None       None       None       None  None   \n",
       "1  Иван Зайц  Ivan Zajc  Ivan Zajc  Ivan Zajc  None   \n",
       "2       None       None       None       None  None   \n",
       "3       None       None       None       None  None   \n",
       "4       None       None       None       None  None   \n",
       "\n",
       "                                   en gender  \n",
       "0  John Cowley (British Army officer)      m  \n",
       "1                           Ivan Zajc      m  \n",
       "2                Herbert Cecil Duncan      m  \n",
       "3                                None      m  \n",
       "4                                None      m  "
      ]
     },
     "execution_count": 8,
     "metadata": {},
     "output_type": "execute_result"
    }
   ],
   "source": [
    "langs['gender'] = slnames['gender']\n",
    "langs.head()"
   ]
  },
  {
   "cell_type": "code",
   "execution_count": 16,
   "metadata": {},
   "outputs": [],
   "source": [
    "langs_n = langs.dropna().copy()"
   ]
  },
  {
   "cell_type": "code",
   "execution_count": 19,
   "metadata": {},
   "outputs": [],
   "source": [
    "def repl(name):\n",
    "    if ',' in name:\n",
    "        name = name.split()\n",
    "        return name[1] + ' ' + name[0].strip(',')\n",
    "    return name\n",
    "\n",
    "def repl_be(name):\n",
    "    n = name.split()\n",
    "    if len(n) == 3 and (n[1].endswith('іч') or n[1].endswith('на')):\n",
    "        return n[0] + ' ' + n[2]\n",
    "    return name\n",
    "\n",
    "def repl_uk(name):\n",
    "    n = name.split()\n",
    "    if len(n) == 3 and (n[2].endswith('ич') or n[1].endswith('на')):\n",
    "        return n[1] + ' ' + n[0]\n",
    "    return name\n",
    "\n",
    "def brackets(name):\n",
    "    if '(' in name:\n",
    "        return name[:name.find('(')]\n",
    "    return name\n",
    "\n",
    "langs_n['be'] = langs_n.be.apply(repl_be)\n",
    "langs_n['uk'] = langs_n.be.apply(repl_uk)\n"
   ]
  },
  {
   "cell_type": "code",
   "execution_count": 20,
   "metadata": {},
   "outputs": [],
   "source": [
    "cols = ['sl', 'ru', 'pl', 'be', 'uk', 'bg', 'cs', 'ca', 'es', 'tr', 'en']\n",
    "langs_n[cols] = langs_n[cols].apply(brackets, axis=1)"
   ]
  },
  {
   "cell_type": "code",
   "execution_count": 22,
   "metadata": {},
   "outputs": [
    {
     "data": {
      "text/html": [
       "<div>\n",
       "<style scoped>\n",
       "    .dataframe tbody tr th:only-of-type {\n",
       "        vertical-align: middle;\n",
       "    }\n",
       "\n",
       "    .dataframe tbody tr th {\n",
       "        vertical-align: top;\n",
       "    }\n",
       "\n",
       "    .dataframe thead th {\n",
       "        text-align: right;\n",
       "    }\n",
       "</style>\n",
       "<table border=\"1\" class=\"dataframe\">\n",
       "  <thead>\n",
       "    <tr style=\"text-align: right;\">\n",
       "      <th></th>\n",
       "      <th>sl</th>\n",
       "      <th>ru</th>\n",
       "      <th>pl</th>\n",
       "      <th>be</th>\n",
       "      <th>uk</th>\n",
       "      <th>bg</th>\n",
       "      <th>cs</th>\n",
       "      <th>ca</th>\n",
       "      <th>es</th>\n",
       "      <th>tr</th>\n",
       "      <th>en</th>\n",
       "      <th>gender</th>\n",
       "    </tr>\n",
       "  </thead>\n",
       "  <tbody>\n",
       "    <tr>\n",
       "      <th>11155</th>\n",
       "      <td>Mojzes Majmonid</td>\n",
       "      <td>Маймонид</td>\n",
       "      <td>Majmonides</td>\n",
       "      <td>Майманід</td>\n",
       "      <td>Майманід</td>\n",
       "      <td>Моисей Маймонид</td>\n",
       "      <td>Maimonides</td>\n",
       "      <td>Maimònides</td>\n",
       "      <td>Maimónides</td>\n",
       "      <td>Musa bin Meymun</td>\n",
       "      <td>Maimonides</td>\n",
       "      <td>m</td>\n",
       "    </tr>\n",
       "    <tr>\n",
       "      <th>1911</th>\n",
       "      <td>Roman Jakobson</td>\n",
       "      <td>Роман Якобсон</td>\n",
       "      <td>Roman Jakobson</td>\n",
       "      <td>Раман Якабсон</td>\n",
       "      <td>Раман Якабсон</td>\n",
       "      <td>Роман Якобсон</td>\n",
       "      <td>Roman Jakobson</td>\n",
       "      <td>Roman Jakobson</td>\n",
       "      <td>Roman Jakobson</td>\n",
       "      <td>Roman Jakobson</td>\n",
       "      <td>Roman Jakobson</td>\n",
       "      <td>m</td>\n",
       "    </tr>\n",
       "    <tr>\n",
       "      <th>11952</th>\n",
       "      <td>Ivan Aleksejevič Bunin</td>\n",
       "      <td>Иван Бунин</td>\n",
       "      <td>Iwan Bunin</td>\n",
       "      <td>Іван Бунін</td>\n",
       "      <td>Іван Бунін</td>\n",
       "      <td>Иван Бунин</td>\n",
       "      <td>Ivan Alexejevič Bunin</td>\n",
       "      <td>Ivan Bunin</td>\n",
       "      <td>Iván Bunin</td>\n",
       "      <td>İvan Bunin</td>\n",
       "      <td>Ivan Bunin</td>\n",
       "      <td>m</td>\n",
       "    </tr>\n",
       "    <tr>\n",
       "      <th>8402</th>\n",
       "      <td>Bazilisk</td>\n",
       "      <td>Василиск</td>\n",
       "      <td>Bazyliszek (stworzenie mityczne)</td>\n",
       "      <td>Васіліск</td>\n",
       "      <td>Васіліск</td>\n",
       "      <td>Василиск (митология)</td>\n",
       "      <td>Bazilišek</td>\n",
       "      <td>Basilisc</td>\n",
       "      <td>Basilisco (criatura mitológica)</td>\n",
       "      <td>Basilisk</td>\n",
       "      <td>Basilisk</td>\n",
       "      <td>m</td>\n",
       "    </tr>\n",
       "    <tr>\n",
       "      <th>16728</th>\n",
       "      <td>Konstans</td>\n",
       "      <td>Констант</td>\n",
       "      <td>Konstans (cesarz rzymski)</td>\n",
       "      <td>Канстант</td>\n",
       "      <td>Канстант</td>\n",
       "      <td>Констант</td>\n",
       "      <td>Constans</td>\n",
       "      <td>Flavi Juli Constant</td>\n",
       "      <td>Constante (emperador)</td>\n",
       "      <td>Konstans</td>\n",
       "      <td>Constans</td>\n",
       "      <td>m</td>\n",
       "    </tr>\n",
       "    <tr>\n",
       "      <th>49</th>\n",
       "      <td>Vasco da Gama</td>\n",
       "      <td>Васко да Гама</td>\n",
       "      <td>Vasco da Gama</td>\n",
       "      <td>Васка да Гама</td>\n",
       "      <td>Васка да Гама</td>\n",
       "      <td>Вашку да Гама</td>\n",
       "      <td>Vasco da Gama</td>\n",
       "      <td>Vasco da Gama</td>\n",
       "      <td>Vasco da Gama</td>\n",
       "      <td>Vasco da Gama</td>\n",
       "      <td>Vasco da Gama</td>\n",
       "      <td>m</td>\n",
       "    </tr>\n",
       "    <tr>\n",
       "      <th>7023</th>\n",
       "      <td>Charles Glover Barkla</td>\n",
       "      <td>Чарлз Баркла</td>\n",
       "      <td>Charles Glover Barkla</td>\n",
       "      <td>Чарлз Гловер Баркла</td>\n",
       "      <td>Чарлз Гловер Баркла</td>\n",
       "      <td>Чарлз Гловър Баркла</td>\n",
       "      <td>Charles Glover Barkla</td>\n",
       "      <td>Charles Glover Barkla</td>\n",
       "      <td>Charles Glover Barkla</td>\n",
       "      <td>Charles Barkla</td>\n",
       "      <td>Charles Glover Barkla</td>\n",
       "      <td>m</td>\n",
       "    </tr>\n",
       "    <tr>\n",
       "      <th>14367</th>\n",
       "      <td>Papež Anicet</td>\n",
       "      <td>Аникет (папа римский)</td>\n",
       "      <td>Anicet (papież)</td>\n",
       "      <td>Аніцэт (Папа Рымскі)</td>\n",
       "      <td>Аніцэт (Папа Рымскі)</td>\n",
       "      <td>Аникет</td>\n",
       "      <td>Anicetus</td>\n",
       "      <td>Papa Anicet</td>\n",
       "      <td>Aniceto</td>\n",
       "      <td>Anicetus</td>\n",
       "      <td>Pope Anicetus</td>\n",
       "      <td>m</td>\n",
       "    </tr>\n",
       "    <tr>\n",
       "      <th>16247</th>\n",
       "      <td>Šiničiro Tomonaga</td>\n",
       "      <td>Синъитиро Томонага</td>\n",
       "      <td>Shin’ichirō Tomonaga</td>\n",
       "      <td>Сін’ітыра Таманага</td>\n",
       "      <td>Сін’ітыра Таманага</td>\n",
       "      <td>Шиничиро Томонага</td>\n",
       "      <td>Šin’ičiró Tomonaga</td>\n",
       "      <td>Sin-Itiro Tomonaga</td>\n",
       "      <td>Shin'ichirō Tomonaga</td>\n",
       "      <td>Shin'ichirō Tomonaga</td>\n",
       "      <td>Shin'ichirō Tomonaga</td>\n",
       "      <td>m</td>\n",
       "    </tr>\n",
       "    <tr>\n",
       "      <th>1842</th>\n",
       "      <td>Thomas Paine</td>\n",
       "      <td>Томас Пейн</td>\n",
       "      <td>Thomas Paine</td>\n",
       "      <td>Томас Пейн</td>\n",
       "      <td>Томас Пейн</td>\n",
       "      <td>Томас Пейн</td>\n",
       "      <td>Thomas Paine</td>\n",
       "      <td>Thomas Paine</td>\n",
       "      <td>Thomas Paine</td>\n",
       "      <td>Thomas Paine</td>\n",
       "      <td>Thomas Paine</td>\n",
       "      <td>m</td>\n",
       "    </tr>\n",
       "  </tbody>\n",
       "</table>\n",
       "</div>"
      ],
      "text/plain": [
       "                           sl                     ru  \\\n",
       "11155         Mojzes Majmonid               Маймонид   \n",
       "1911           Roman Jakobson          Роман Якобсон   \n",
       "11952  Ivan Aleksejevič Bunin             Иван Бунин   \n",
       "8402                 Bazilisk               Василиск   \n",
       "16728                Konstans               Констант   \n",
       "49              Vasco da Gama          Васко да Гама   \n",
       "7023    Charles Glover Barkla           Чарлз Баркла   \n",
       "14367            Papež Anicet  Аникет (папа римский)   \n",
       "16247       Šiničiro Tomonaga     Синъитиро Томонага   \n",
       "1842             Thomas Paine             Томас Пейн   \n",
       "\n",
       "                                     pl                    be  \\\n",
       "11155                        Majmonides              Майманід   \n",
       "1911                     Roman Jakobson         Раман Якабсон   \n",
       "11952                        Iwan Bunin            Іван Бунін   \n",
       "8402   Bazyliszek (stworzenie mityczne)              Васіліск   \n",
       "16728         Konstans (cesarz rzymski)              Канстант   \n",
       "49                        Vasco da Gama         Васка да Гама   \n",
       "7023              Charles Glover Barkla   Чарлз Гловер Баркла   \n",
       "14367                   Anicet (papież)  Аніцэт (Папа Рымскі)   \n",
       "16247              Shin’ichirō Tomonaga    Сін’ітыра Таманага   \n",
       "1842                       Thomas Paine            Томас Пейн   \n",
       "\n",
       "                         uk                    bg                     cs  \\\n",
       "11155              Майманід       Моисей Маймонид             Maimonides   \n",
       "1911          Раман Якабсон         Роман Якобсон         Roman Jakobson   \n",
       "11952            Іван Бунін            Иван Бунин  Ivan Alexejevič Bunin   \n",
       "8402               Васіліск  Василиск (митология)              Bazilišek   \n",
       "16728              Канстант              Констант               Constans   \n",
       "49            Васка да Гама         Вашку да Гама          Vasco da Gama   \n",
       "7023    Чарлз Гловер Баркла   Чарлз Гловър Баркла  Charles Glover Barkla   \n",
       "14367  Аніцэт (Папа Рымскі)                Аникет               Anicetus   \n",
       "16247    Сін’ітыра Таманага     Шиничиро Томонага     Šin’ičiró Tomonaga   \n",
       "1842             Томас Пейн            Томас Пейн           Thomas Paine   \n",
       "\n",
       "                          ca                               es  \\\n",
       "11155             Maimònides                       Maimónides   \n",
       "1911          Roman Jakobson                   Roman Jakobson   \n",
       "11952             Ivan Bunin                       Iván Bunin   \n",
       "8402                Basilisc  Basilisco (criatura mitológica)   \n",
       "16728    Flavi Juli Constant            Constante (emperador)   \n",
       "49             Vasco da Gama                    Vasco da Gama   \n",
       "7023   Charles Glover Barkla            Charles Glover Barkla   \n",
       "14367            Papa Anicet                          Aniceto   \n",
       "16247     Sin-Itiro Tomonaga             Shin'ichirō Tomonaga   \n",
       "1842            Thomas Paine                     Thomas Paine   \n",
       "\n",
       "                         tr                     en gender  \n",
       "11155       Musa bin Meymun             Maimonides      m  \n",
       "1911         Roman Jakobson         Roman Jakobson      m  \n",
       "11952            İvan Bunin             Ivan Bunin      m  \n",
       "8402               Basilisk               Basilisk      m  \n",
       "16728              Konstans               Constans      m  \n",
       "49            Vasco da Gama          Vasco da Gama      m  \n",
       "7023         Charles Barkla  Charles Glover Barkla      m  \n",
       "14367              Anicetus          Pope Anicetus      m  \n",
       "16247  Shin'ichirō Tomonaga   Shin'ichirō Tomonaga      m  \n",
       "1842           Thomas Paine           Thomas Paine      m  "
      ]
     },
     "execution_count": 22,
     "metadata": {},
     "output_type": "execute_result"
    }
   ],
   "source": [
    "langs_n.sample(10)"
   ]
  },
  {
   "cell_type": "code",
   "execution_count": 25,
   "metadata": {},
   "outputs": [],
   "source": [
    "langs_n.to_csv('PER_names.csv', index=False)"
   ]
  },
  {
   "cell_type": "code",
   "execution_count": 3,
   "metadata": {},
   "outputs": [],
   "source": [
    "translator = Translator()"
   ]
  },
  {
   "cell_type": "code",
   "execution_count": 35,
   "metadata": {},
   "outputs": [],
   "source": [
    "def translating(langsents, lang):\n",
    "    '''Translator function'''\n",
    "    step = 30\n",
    "    sents = []\n",
    "    interval = len(langsents) // step + 1\n",
    "    f = IntProgress(description=f'{lang}:', min=1, max=interval + 1, style= {'description_width': 'initial'})\n",
    "    display(f)\n",
    "\n",
    "    for i in range(interval):\n",
    "        if (i + 1) * step < len(langsents):\n",
    "            text = '\\n'.join(langsents[i * step:(i + 1) * step])\n",
    "        else:\n",
    "            text = '\\n'.join(langsents[i * step:])\n",
    "            if not text:\n",
    "                break\n",
    "        sent = translator.translate(text, src='en', dest=lang).text\n",
    "        sents.extend(sent.split('\\n'))\n",
    "        time.sleep(randint(9, 30))\n",
    "        f.value += 1\n",
    "    return sents"
   ]
  },
  {
   "cell_type": "code",
   "execution_count": 36,
   "metadata": {},
   "outputs": [],
   "source": [
    "def writesents(sents, lang, category):\n",
    "    '''Recording sents'''\n",
    "    with open(f'{category}_{lang}_sents.json', 'w', encoding='utf8') as file:\n",
    "        json.dump(sents, file, ensure_ascii=False)"
   ]
  },
  {
   "cell_type": "code",
   "execution_count": 37,
   "metadata": {},
   "outputs": [],
   "source": [
    "def loadsents(lang, category):\n",
    "    '''Reading sents'''\n",
    "    with open(f'{category}_{lang}_sents.json',  encoding='utf8') as file:\n",
    "        return json.load(file)\n"
   ]
  },
  {
   "cell_type": "code",
   "execution_count": 38,
   "metadata": {},
   "outputs": [],
   "source": [
    "def sentmerger(cleansents):\n",
    "    '''Merge sentences before translating'''\n",
    "    res = []\n",
    "    for sent in cleansents:\n",
    "        string = ''\n",
    "        for token in sent:\n",
    "            if string and re.match(r'(?i)[\\[\\]<>a-z0-9-]+|<\\$%\\|', token[0]):\n",
    "                string += ' '\n",
    "            string += token[0]\n",
    "        string = string.replace('  ', ' ')\n",
    "        res.append(string)\n",
    "    return res"
   ]
  },
  {
   "cell_type": "code",
   "execution_count": 39,
   "metadata": {},
   "outputs": [],
   "source": [
    "def pack_translate(source, category):\n",
    "    dataset = [source]\n",
    "    for language in ['ru', 'pl', 'be', 'uk', 'bg', 'sl', 'cs', 'ca', 'es', 'tr']:\n",
    "        resultsents = None\n",
    "        while not resultsents:\n",
    "            try:\n",
    "                resultsents = translating(source, language)\n",
    "            except Exception as E:\n",
    "                print(f'Error: {E.__class__.__name__}')\n",
    "                time.sleep(5)\n",
    "        writesents(resultsents, language, category)\n",
    "        dataset.append(resultsents)\n",
    "    df = pd.DataFrame(zip(*dataset), columns=['en', 'ru', 'pl', 'be', 'uk', 'bg', 'sl', 'cs', 'ca', 'es', 'tr'])\n",
    "    df.to_csv(f'{category}_{len(df)}sents.csv', index=False)\n",
    "    pickle.dump(df, open(f'{category}_{len(df)}sents', 'wb'))\n",
    "    return dataset"
   ]
  },
  {
   "cell_type": "code",
   "execution_count": 40,
   "metadata": {},
   "outputs": [],
   "source": [
    "'''Download and prepare WikiNERen'''\n",
    "with open(r'F:\\CODE\\Projects\\work\\huawei-synth\\data\\aij-wikiner-en-wp2', encoding='utf8') as file:\n",
    "    data = file.readlines()\n",
    "\n",
    "for i in range(len(data)):\n",
    "    data[i] = [t.split('|') for t in data[i].strip().split()]"
   ]
  },
  {
   "cell_type": "markdown",
   "metadata": {},
   "source": [
    "PER"
   ]
  },
  {
   "cell_type": "code",
   "execution_count": 11,
   "metadata": {},
   "outputs": [
    {
     "name": "stdout",
     "output_type": "stream",
     "text": [
      "10936\n"
     ]
    }
   ],
   "source": [
    "cleansents = []\n",
    "for i in range(len(data)):\n",
    "    labels = Counter((t[2] for t in data[i]))\n",
    "    if len(labels) == 2 and labels['I-PER'] <= 2:\n",
    "        app = False\n",
    "        for j in range(len(data[i])):\n",
    "            try:\n",
    "                if data[i][j][2] == 'I-PER' and data[i][j][0].endswith(\"'s\"):\n",
    "                    continue\n",
    "                if data[i][j][2] == 'I-PER' and data[i][j + 1][1] == 'VBD':\n",
    "                    data[i][j][0] = '[???]'\n",
    "                    if j - 1 >= 0:\n",
    "                        if data[i][j - 1][2] == 'I-PER':\n",
    "                            data[i][j - 1][0] = '[???]'\n",
    "                    app = True\n",
    "                elif data[i][j][2] == 'I-PER':\n",
    "                    data[i][j][0] = ' [???]'\n",
    "                \n",
    "            except IndexError:\n",
    "                continue\n",
    "        if app:\n",
    "            cleansents.append(data[i])\n",
    "\n",
    "print(len(cleansents))"
   ]
  },
  {
   "cell_type": "code",
   "execution_count": 13,
   "metadata": {},
   "outputs": [],
   "source": [
    "persres = sentmerger(cleansents)"
   ]
  },
  {
   "cell_type": "code",
   "execution_count": 18,
   "metadata": {},
   "outputs": [
    {
     "data": {
      "text/plain": [
       "['From this climate [man] developed what many consider the first expression of modern anarchist thought.',\n",
       " '[man] warned that the syndicalists aims were in perpetuating syndicalism itself, whereas anarchists must always have anarchy as their end and consequently refrain from committing to any particular method of achieving it.',\n",
       " '[man] proposed spontaneous order, whereby organization emerges without central authority, a\" positive anarchy\" where order arises when everybody does\" what he wishes and only what he wishes\" and where\" business transactions alone produce the social order.\"',\n",
       " '[man] advocated extreme individualism, proposing that all cooperation in labour be eliminated on the premise that this would be most conducive with the general good.',\n",
       " '[man] was a utilitarian who believed that all individuals are not of equal value, with some of us\" of more worth and importance\" than others depending on our utility in bringing about social good.',\n",
       " '[man] opposed government because he saw it as infringing on the individual\\'s right to\" private judgement\" to determine which actions most maximise utility, but also makes a critique of all authority over the individual\\'s judgement.',\n",
       " 'Later legends state that [man] was invulnerable in all of his body except for his heel.',\n",
       " 'In another version of this story, [man] anointed the boy in ambrosia and put him on top of a fire to burn away the mortal parts of his body.',\n",
       " '[man] refused, claiming to have no medical knowledge.',\n",
       " '[woman] reasoned that the spear had inflicted the wound; therefore, the spear must be able to heal it.']"
      ]
     },
     "execution_count": 18,
     "metadata": {},
     "output_type": "execute_result"
    }
   ],
   "source": [
    "persres[:10]"
   ]
  },
  {
   "cell_type": "code",
   "execution_count": 15,
   "metadata": {},
   "outputs": [],
   "source": [
    "for i in range(len(persres)):\n",
    "    persres[i] = persres[i].replace('[???] [???]', '[???]')"
   ]
  },
  {
   "cell_type": "code",
   "execution_count": 17,
   "metadata": {},
   "outputs": [],
   "source": [
    "for i in range(len(persres)):\n",
    "    if not i % 9:\n",
    "        c = '[woman]'\n",
    "    else:\n",
    "        c = '[man]'\n",
    "    if 'his' in persres[i]:\n",
    "        c = '[man]'\n",
    "    elif ' her' in persres[i]:\n",
    "        c = '[woman]'\n",
    "    persres[i] = persres[i].replace('[???]', c)"
   ]
  },
  {
   "cell_type": "code",
   "execution_count": 19,
   "metadata": {},
   "outputs": [
    {
     "data": {
      "application/vnd.jupyter.widget-view+json": {
       "model_id": "6bf4b147079c4c9c8c5f3c5da264664c",
       "version_major": 2,
       "version_minor": 0
      },
      "text/plain": [
       "IntProgress(value=1, description='ca:', max=366, min=1, style=ProgressStyle(description_width='initial'))"
      ]
     },
     "metadata": {},
     "output_type": "display_data"
    },
    {
     "name": "stdout",
     "output_type": "stream",
     "text": [
      "Connection time out. Retry...\n"
     ]
    },
    {
     "data": {
      "application/vnd.jupyter.widget-view+json": {
       "model_id": "9d4dd17942cf47c9b34117c28fe96606",
       "version_major": 2,
       "version_minor": 0
      },
      "text/plain": [
       "IntProgress(value=1, description='ca:', max=366, min=1, style=ProgressStyle(description_width='initial'))"
      ]
     },
     "metadata": {},
     "output_type": "display_data"
    },
    {
     "data": {
      "application/vnd.jupyter.widget-view+json": {
       "model_id": "e72730555046432085dbd2b2ea1dcdc0",
       "version_major": 2,
       "version_minor": 0
      },
      "text/plain": [
       "IntProgress(value=1, description='es:', max=366, min=1, style=ProgressStyle(description_width='initial'))"
      ]
     },
     "metadata": {},
     "output_type": "display_data"
    },
    {
     "data": {
      "application/vnd.jupyter.widget-view+json": {
       "model_id": "5f9aea11971e4e118b14051205e41e99",
       "version_major": 2,
       "version_minor": 0
      },
      "text/plain": [
       "IntProgress(value=1, description='tr:', max=366, min=1, style=ProgressStyle(description_width='initial'))"
      ]
     },
     "metadata": {},
     "output_type": "display_data"
    }
   ],
   "source": [
    "persents = pack_translate(persres, 'ESCATR')"
   ]
  },
  {
   "cell_type": "code",
   "execution_count": 20,
   "metadata": {},
   "outputs": [],
   "source": [
    "persents.to_csv('PER_encatr.csv')"
   ]
  },
  {
   "cell_type": "code",
   "execution_count": 19,
   "metadata": {},
   "outputs": [],
   "source": [
    "rusents = loadsents('ru', 'PER')\n",
    "plsents = loadsents('pl', 'PER')\n",
    "uksents = loadsents('uk', 'PER')\n",
    "besents = loadsents('be', 'PER')\n",
    "bgsents = loadsents('bg', 'PER')\n",
    "slsents = loadsents('sl', 'PER')\n",
    "cssents = loadsents('cs', 'PER')\n",
    "casents = loadsents('ca', 'ESCATR')\n",
    "essents = loadsents('es', 'ESCATR')\n",
    "trsents = loadsents('tr', 'ESCATR')\n"
   ]
  },
  {
   "cell_type": "code",
   "execution_count": 20,
   "metadata": {},
   "outputs": [],
   "source": [
    "with open('perssents.json') as file:\n",
    "    ensents = json.load(file)"
   ]
  },
  {
   "cell_type": "code",
   "execution_count": 21,
   "metadata": {},
   "outputs": [],
   "source": [
    "persents = list(zip(plsents, besents, uksents, rusents, slsents, cssents, bgsents, casents, essents, trsents, ensents))\n"
   ]
  },
  {
   "cell_type": "code",
   "execution_count": 22,
   "metadata": {},
   "outputs": [],
   "source": [
    "resclean = []\n",
    "for sents in persents:\n",
    "    pol = set(re.findall(r'\\[(?:człowiek.*?|kobiet.*?|mężczyzn.*?)\\]', sents[0].lower()))\n",
    "    if not pol.issubset({'[człowiek]', '[kobieta]', '[mężczyzna]'}) or not pol:\n",
    "        continue\n",
    "    bel = set(re.findall(r'\\[(?:чалавек.*?|жанчын.*?|мужчын.*?)\\]', sents[1].lower()))\n",
    "    if not bel.issubset({'[чалавек]', '[жанчына]', '[мужчына]'}) or not bel:\n",
    "        continue\n",
    "    uk = set(re.findall(r'\\[(?:людин.*?|жінк.*?|чоловік.*?)\\]', sents[2].lower()))\n",
    "    if not uk.issubset({'[людина]', '[жінка]', '[чоловік]'}) or not uk:\n",
    "        continue\n",
    "    rus = set(re.findall(r'\\[(?:человек.*?|женщин.*?|мужчин.*?)\\]', sents[3].lower()))\n",
    "    if not rus.issubset({'[человек]', '[женщина]', '[мужчина]'}) or not rus:\n",
    "        continue\n",
    "    sl = set(re.findall(r'\\[(?:človek.*?|žensk.*?|mož.*?|mošk.*?)\\]', sents[4].lower()))\n",
    "    if not sl.issubset({'[človek]', '[ženska]', '[mož]', '[moški]'}) or not sl:\n",
    "        continue\n",
    "    cs = set(re.findall(r'\\[(?:člověk.*?|žen.*?|muž.*?)\\]', sents[5].lower()))\n",
    "    if not cs.issubset({'[člověk]', '[žena]', '[muž]'}) or not cs:\n",
    "        continue\n",
    "    ca = set(re.findall(r\"(?i)\\[(?:(?:l'|un )?home|man|woman|(?:la |una )?dona)\\]\", sents[7].lower()))\n",
    "    if not ca:\n",
    "        continue\n",
    "    es = set(re.findall(r'(?i)\\[(?:(?:el |un )?hombre|man|woman|(?:la |una )?mujer)\\]', sents[8].lower()))\n",
    "    if not es:\n",
    "        continue\n",
    "    tr = set(re.findall(r'\\[(?:[İi]nsan(\\w*)|[Aa]dam(\\w*)|[Ee]rkek(\\w*)|man|woman|[Kk]adın(\\w*))\\]', sents[9]))\n",
    "    if not tr:\n",
    "        continue\n",
    "    resclean.append(sents)"
   ]
  },
  {
   "cell_type": "code",
   "execution_count": 14,
   "metadata": {},
   "outputs": [
    {
     "data": {
      "text/plain": [
       "7665"
      ]
     },
     "execution_count": 14,
     "metadata": {},
     "output_type": "execute_result"
    }
   ],
   "source": [
    "len(resclean)"
   ]
  },
  {
   "cell_type": "code",
   "execution_count": 23,
   "metadata": {},
   "outputs": [],
   "source": [
    "def turm(s):\n",
    "    if s.group(1):\n",
    "        return \"[male]'\" + s.group(1)\n",
    "    else:\n",
    "        return '[male]'\n",
    "\n",
    "def turf(s):\n",
    "    if s.group(1):\n",
    "        return \"[female]'\" + s.group(1)\n",
    "    else:\n",
    "        return '[female]'\n",
    "\n",
    "for i in range(len(resclean)):\n",
    "    resclean[i] = list(resclean[i])\n",
    "    resclean[i][0] = re.sub(r'(?i)\\[(?:człowiek|mężczyzna)\\]', '[male]', resclean[i][0])\n",
    "    resclean[i][0] = re.sub(r'(?i)\\[kobieta\\]', '[female]', resclean[i][0])\n",
    "    resclean[i][1] = re.sub(r'(?i)\\[(?:чалавек|мужчына)\\]', '[male]', resclean[i][1])\n",
    "    resclean[i][1] = re.sub(r'(?i)\\[жанчына\\]', '[female]', resclean[i][1])\n",
    "    resclean[i][2] = re.sub(r'(?i)\\[(?:людина|чоловік)\\]', '[male]', resclean[i][2])\n",
    "    resclean[i][2] = re.sub(r'(?i)\\[жінка\\]', '[female]', resclean[i][2])\n",
    "    resclean[i][3] = re.sub(r'(?i)\\[(?:человек|мужчина)\\]', '[male]', resclean[i][3])\n",
    "    resclean[i][3] = re.sub(r'(?i)\\[женщина\\]', '[female]', resclean[i][3])\n",
    "    resclean[i][4] = re.sub(r'(?i)\\[(?:človek|mož|moški)\\]', '[male]', resclean[i][4])\n",
    "    resclean[i][4] = re.sub(r'(?i)\\[ženska\\]', '[female]', resclean[i][4])\n",
    "    resclean[i][5] = re.sub(r'(?i)\\[(?:člověk|muž)\\]', '[male]', resclean[i][5])\n",
    "    resclean[i][5] = re.sub(r'(?i)\\[žena\\]', '[female]', resclean[i][5])\n",
    "    resclean[i][6] = re.sub(r'\\[(?:човек.*?|мъж.*?)\\]', '[male]', resclean[i][6])\n",
    "    resclean[i][6] = re.sub(r'\\[жена.*?\\]', '[female]', resclean[i][6])\n",
    "    resclean[i][7] = re.sub(r'(?i)\\[(?:(?:l\\'|un )?home|man)\\]', '[male]', resclean[i][7])\n",
    "    resclean[i][7] = re.sub(r'(?i)\\[(?:(?:la |una )?dona|woman)\\]', '[female]', resclean[i][7])\n",
    "    resclean[i][8] = re.sub(r'(?i)\\[(?:(?:el |un )?hombre|man)\\]', '[male]', resclean[i][8])\n",
    "    resclean[i][8] = re.sub(r'(?i)\\[(?:(?:la |una )?dona|woman)\\]', '[female]', resclean[i][8])\n",
    "    resclean[i][9] = re.sub(r'(?i)\\[(?:insan(\\w*)|adam(\\w*)|man(\\w*))\\]', turm, resclean[i][9])\n",
    "    resclean[i][9] = re.sub(r'(?i)\\[(?:kadın(\\w*)|woman(\\w*))\\]', turf, resclean[i][0])\n",
    "    resclean[i][10] = resclean[i][10].replace('[man]', '[male]')\n",
    "    resclean[i][10] = resclean[i][10].replace('[woman]', '[female]')\n"
   ]
  },
  {
   "cell_type": "code",
   "execution_count": 16,
   "metadata": {},
   "outputs": [
    {
     "data": {
      "text/plain": [
       "7665"
      ]
     },
     "execution_count": 16,
     "metadata": {},
     "output_type": "execute_result"
    }
   ],
   "source": [
    "len(resclean)"
   ]
  },
  {
   "cell_type": "code",
   "execution_count": 24,
   "metadata": {},
   "outputs": [],
   "source": [
    "df = pd.DataFrame(resclean, columns=['pl', 'be', 'uk', 'ru', 'sl', 'cs', 'bg', 'ca', 'es', 'tr', 'en'])\n",
    "df.to_csv('PER_sents_TEN.csv', index=False)"
   ]
  },
  {
   "cell_type": "code",
   "execution_count": 41,
   "metadata": {},
   "outputs": [
    {
     "name": "stdout",
     "output_type": "stream",
     "text": [
      "1897\n"
     ]
    }
   ],
   "source": [
    "'''LOCATIVE'''\n",
    "cleansents = []\n",
    "for i in range(len(data)):\n",
    "    labels = Counter((t[2] for t in data[i]))\n",
    "    if len(labels) == 2 and labels['I-LOC'] == 1:\n",
    "        for j in range(len(data[i])):\n",
    "            try:\n",
    "                if data[i][j][0] == 'in' and data[i][j + 1][2] == 'I-LOC':\n",
    "                    data[i][j][0] == ''\n",
    "                    data[i][j + 1][0] = '[???]'\n",
    "                    cleansents.append(data[i])\n",
    "            except IndexError:\n",
    "                continue\n",
    "\n",
    "print(len(cleansents))"
   ]
  },
  {
   "cell_type": "code",
   "execution_count": 42,
   "metadata": {},
   "outputs": [],
   "source": [
    "locsents = sentmerger(cleansents)"
   ]
  },
  {
   "cell_type": "code",
   "execution_count": 44,
   "metadata": {},
   "outputs": [],
   "source": [
    "for i in range(len(locsents)):\n",
    "    locsents[i] = locsents[i].replace('in [???]', '[???]')"
   ]
  },
  {
   "cell_type": "code",
   "execution_count": 45,
   "metadata": {},
   "outputs": [
    {
     "data": {
      "text/plain": [
       "['The population growth rate [???] dropped by nearly half from 1910 -- 1920, reflecting the effect of emigration.',\n",
       " 'Sales and excise taxes [???] account for 51 percent of all state and local revenue, compared with an average of about 36 percent nationwide.',\n",
       " 'The overall federal, state, and local tax burden [???] ranks the state as the second least tax-burdened state in the country.',\n",
       " 'However, he died [???] of natural causes within the year( in 322 BC).',\n",
       " 'Recently, overseas investment [???] has increased.']"
      ]
     },
     "execution_count": 45,
     "metadata": {},
     "output_type": "execute_result"
    }
   ],
   "source": [
    "locsents[:5]"
   ]
  },
  {
   "cell_type": "code",
   "execution_count": 46,
   "metadata": {},
   "outputs": [
    {
     "data": {
      "application/vnd.jupyter.widget-view+json": {
       "model_id": "ec3b9619be4a48df911486728df960ce",
       "version_major": 2,
       "version_minor": 0
      },
      "text/plain": [
       "IntProgress(value=1, description='ru:', max=65, min=1, style=ProgressStyle(description_width='initial'))"
      ]
     },
     "metadata": {},
     "output_type": "display_data"
    },
    {
     "data": {
      "application/vnd.jupyter.widget-view+json": {
       "model_id": "e01963ace2f64204a5e4160412dd1be8",
       "version_major": 2,
       "version_minor": 0
      },
      "text/plain": [
       "IntProgress(value=1, description='pl:', max=65, min=1, style=ProgressStyle(description_width='initial'))"
      ]
     },
     "metadata": {},
     "output_type": "display_data"
    },
    {
     "data": {
      "application/vnd.jupyter.widget-view+json": {
       "model_id": "3a0827002c714e88a7ab9cbf1e2880d2",
       "version_major": 2,
       "version_minor": 0
      },
      "text/plain": [
       "IntProgress(value=1, description='be:', max=65, min=1, style=ProgressStyle(description_width='initial'))"
      ]
     },
     "metadata": {},
     "output_type": "display_data"
    },
    {
     "data": {
      "application/vnd.jupyter.widget-view+json": {
       "model_id": "e84738e91b2345f29a11bc8829474728",
       "version_major": 2,
       "version_minor": 0
      },
      "text/plain": [
       "IntProgress(value=1, description='uk:', max=65, min=1, style=ProgressStyle(description_width='initial'))"
      ]
     },
     "metadata": {},
     "output_type": "display_data"
    },
    {
     "data": {
      "application/vnd.jupyter.widget-view+json": {
       "model_id": "11b1961cbbb94ea28bab9cdf745d0402",
       "version_major": 2,
       "version_minor": 0
      },
      "text/plain": [
       "IntProgress(value=1, description='bg:', max=65, min=1, style=ProgressStyle(description_width='initial'))"
      ]
     },
     "metadata": {},
     "output_type": "display_data"
    },
    {
     "data": {
      "application/vnd.jupyter.widget-view+json": {
       "model_id": "d56665dcffd548d4bd0a3a8ad4cf46a7",
       "version_major": 2,
       "version_minor": 0
      },
      "text/plain": [
       "IntProgress(value=1, description='sl:', max=65, min=1, style=ProgressStyle(description_width='initial'))"
      ]
     },
     "metadata": {},
     "output_type": "display_data"
    },
    {
     "data": {
      "application/vnd.jupyter.widget-view+json": {
       "model_id": "cc47dad6d0bc42d7ab23957d004cb07a",
       "version_major": 2,
       "version_minor": 0
      },
      "text/plain": [
       "IntProgress(value=1, description='cs:', max=65, min=1, style=ProgressStyle(description_width='initial'))"
      ]
     },
     "metadata": {},
     "output_type": "display_data"
    },
    {
     "data": {
      "application/vnd.jupyter.widget-view+json": {
       "model_id": "6e965e5659dc443fb0c9a2a952bfbedc",
       "version_major": 2,
       "version_minor": 0
      },
      "text/plain": [
       "IntProgress(value=1, description='ca:', max=65, min=1, style=ProgressStyle(description_width='initial'))"
      ]
     },
     "metadata": {},
     "output_type": "display_data"
    },
    {
     "data": {
      "application/vnd.jupyter.widget-view+json": {
       "model_id": "603b15b1d1384ed498b845caf7073765",
       "version_major": 2,
       "version_minor": 0
      },
      "text/plain": [
       "IntProgress(value=1, description='es:', max=65, min=1, style=ProgressStyle(description_width='initial'))"
      ]
     },
     "metadata": {},
     "output_type": "display_data"
    },
    {
     "data": {
      "application/vnd.jupyter.widget-view+json": {
       "model_id": "0b029286e10348c49e7c4bf640f26f38",
       "version_major": 2,
       "version_minor": 0
      },
      "text/plain": [
       "IntProgress(value=1, description='tr:', max=65, min=1, style=ProgressStyle(description_width='initial'))"
      ]
     },
     "metadata": {},
     "output_type": "display_data"
    }
   ],
   "source": [
    "locres = pack_translate(locsents, 'LOC_LOC')"
   ]
  },
  {
   "cell_type": "code",
   "execution_count": 12,
   "metadata": {},
   "outputs": [],
   "source": [
    "df = pd.DataFrame(zip(*locres), columns=['en', 'ru', 'pl', 'be', 'uk', 'bg', 'sl', 'cs', 'ca', 'es', 'tr'])"
   ]
  },
  {
   "cell_type": "code",
   "execution_count": 14,
   "metadata": {},
   "outputs": [],
   "source": [
    "df.to_csv('LOC_LOC_sents_TEN.csv', index=False)"
   ]
  },
  {
   "cell_type": "code",
   "execution_count": 85,
   "metadata": {},
   "outputs": [],
   "source": [
    "casents = loadsents('ca', 'LOC')\n",
    "essents = loadsents('es', 'LOC')\n",
    "trsents = loadsents('tr', 'LOC')"
   ]
  },
  {
   "cell_type": "code",
   "execution_count": 86,
   "metadata": {},
   "outputs": [],
   "source": [
    "persents = list(zip(casents, essents, trsents))"
   ]
  },
  {
   "cell_type": "code",
   "execution_count": 91,
   "metadata": {},
   "outputs": [],
   "source": [
    "resclean = []\n",
    "for sents in persents:\n",
    "    ca = set(re.findall(r\"(?i)\\[(?:localització|ubicació|lloc)\\]\", sents[0].lower()))\n",
    "    if not ca.issubset({'[localització]', \"[ubicació]\", '[lloc]'}) or not ca:\n",
    "        continue\n",
    "    es = set(re.findall(r'(?i)\\[(?:ubicación|lugar|locación)\\]', sents[1].lower()))\n",
    "    if not es.issubset({'[ubicación]', '[lugar]', '[locación]'}) or not es:\n",
    "        continue\n",
    "    tr = set(re.findall(r'(?i)\\[(?:lokasyon(\\w*)|yer(\\w*)|konum(\\w*))\\]', sents[2].lower()))\n",
    "    if not tr:\n",
    "        continue\n",
    "    resclean.append(sents)"
   ]
  },
  {
   "cell_type": "code",
   "execution_count": 92,
   "metadata": {},
   "outputs": [],
   "source": [
    "def turl(s):\n",
    "    if s.group(1):\n",
    "        return \"[???]'\" + s.group(1)\n",
    "    else:\n",
    "        return '[???]'\n",
    "\n",
    "for i in range(len(resclean)):\n",
    "    resclean[i] = list(resclean[i])\n",
    "    resclean[i][0] = re.sub(r'(?i)\\[(?:localització|ubicació|lloc)\\]', '[???]', resclean[i][0])\n",
    "    resclean[i][1] = re.sub(r'(?i)\\[(?:ubicación|lugar|locación)\\]', '[???]', resclean[i][1])\n",
    "    resclean[i][2] = re.sub(r'(?i)\\[(?:lokasyon(\\w*)|yer(\\w*)|konum(\\w*))\\]', turl, resclean[i][2])"
   ]
  },
  {
   "cell_type": "code",
   "execution_count": 93,
   "metadata": {},
   "outputs": [],
   "source": [
    "df = pd.DataFrame(resclean, columns=['ca', 'es', 'tr'])\n",
    "df.to_csv('LOC_loc_sents_escatr.csv', index=False)"
   ]
  },
  {
   "cell_type": "code",
   "execution_count": 9,
   "metadata": {},
   "outputs": [
    {
     "name": "stdout",
     "output_type": "stream",
     "text": [
      "2453\n"
     ]
    }
   ],
   "source": [
    "'''NOMINATIVE'''\n",
    "cleansents = []\n",
    "for i in range(len(data)):\n",
    "    labels = Counter((t[2] for t in data[i]))\n",
    "    if len(labels) == 2 and labels['I-LOC'] == 1:\n",
    "        for j in range(len(data[i])):\n",
    "            try:\n",
    "                if (data[i][j][1] in {'VBZ', 'VBP', 'VBN'} and data[i][j + 1][2] == 'I-LOC'):\n",
    "                    data[i][j + 1][0] = '[???]'\n",
    "                    cleansents.append(data[i])\n",
    "                elif (data[i][j][2] == 'I-LOC' and data[i][j + 1][1]  in {'VBZ', 'VBP', 'VBN'}):\n",
    "                    data[i][j][0] = '[???]'\n",
    "                    cleansents.append(data[i])\n",
    "            except IndexError:\n",
    "                continue\n",
    "\n",
    "print(len(cleansents))"
   ]
  },
  {
   "cell_type": "code",
   "execution_count": 10,
   "metadata": {},
   "outputs": [],
   "source": [
    "locres = sentmerger(cleansents)"
   ]
  },
  {
   "cell_type": "code",
   "execution_count": 11,
   "metadata": {},
   "outputs": [],
   "source": [
    "'''Only for nominative'''\n",
    "locsents = []\n",
    "for sent in locres:\n",
    "    if 'from the [???]' in sent or 'of the [???]' in sent or 'in [???]' in sent or 'from [???]' in sent or 'of [???]' in sent:\n",
    "        continue\n",
    "    locsents.append(sent)"
   ]
  },
  {
   "cell_type": "code",
   "execution_count": 12,
   "metadata": {},
   "outputs": [
    {
     "data": {
      "text/plain": [
       "1984"
      ]
     },
     "execution_count": 12,
     "metadata": {},
     "output_type": "execute_result"
    }
   ],
   "source": [
    "len(locsents)"
   ]
  },
  {
   "cell_type": "code",
   "execution_count": null,
   "metadata": {},
   "outputs": [],
   "source": [
    "locres = pack_translate(locsents, 'LOC_NOM')"
   ]
  },
  {
   "cell_type": "code",
   "execution_count": 34,
   "metadata": {},
   "outputs": [
    {
     "name": "stdout",
     "output_type": "stream",
     "text": [
      "1213\n"
     ]
    }
   ],
   "source": [
    "# Organizations\n",
    "orgsents = []\n",
    "for i in range(len(data)):\n",
    "    labels = Counter((t[2] for t in data[i]))\n",
    "    if len(labels) == 2 and labels['I-ORG'] <= 2:\n",
    "        for j in range(len(data[i])):\n",
    "            if data[i][j][2] == 'I-ORG':\n",
    "                if j - 1 >= 0:\n",
    "                    if data[i][j - 1][0] == 'is':\n",
    "                        orgsents.append(data[i])\n",
    "                        break\n",
    "                if j + 1 < len(data[i]):\n",
    "                    if data[i][j + 1][1] in {'VBZ', 'VBP', 'VBN'}:\n",
    "                        orgsents.append(data[i])\n",
    "                        break\n",
    "\n",
    "print(len(orgsents))"
   ]
  },
  {
   "cell_type": "code",
   "execution_count": 35,
   "metadata": {},
   "outputs": [
    {
     "data": {
      "text/plain": [
       "[' [???]  is often cited as an example of anarchism in practice.',\n",
       " ' Studies by the [???]  [???]  have investigated the relative ( generally warming) effect of albedo change and ( cooling) effect of carbon sequestration on planting forests.',\n",
       " ' [???]  are still the majority party in both houses of the legislature.',\n",
       " ' [???]  has a large presence in the area.',\n",
       " ' Eight days later, the [???]  convenes once more.',\n",
       " ' The General [???]  is also responsible for proposing and passing laws.',\n",
       " ' The [???]  [???]  hears civil appeals and may in its discretion hear criminal appeals.',\n",
       " \" The [???]  [???]  is currently the state 's only professional opera company, though there are several volunteer and semi-professional organizations in the state as well.\",\n",
       " ' While there has been some research on sustainability using GMO crops, at least one hyped and prominent multi-year attempt by [???]  [???]  has been unsuccessful, though during the same period traditional breeding techniques yielded a more sustainable variety of the same crop.',\n",
       " ' [???]  accredits standards that are developed by representatives of standards developing organizations, government agencies, consumer groups, companies, and others.',\n",
       " ' [???]  estimates that more than 80 percent of females and around 50 percent of males lack access to education centers.',\n",
       " ' The [???]  is responsible for carrying out both foreign and domestic policies.',\n",
       " ' [???]  has a past of being heavily influenced by the ruling party in its reporting, that being left or right winged.',\n",
       " \" One of the primary features of [???]  is its emphasis on the attainment of utopia during one 's life.\",\n",
       " \" [???]  has also used the game for its other late ' 90s and 2000 's anthology series.\"]"
      ]
     },
     "execution_count": 35,
     "metadata": {},
     "output_type": "execute_result"
    }
   ],
   "source": [
    "for i in range(len(orgsents)):\n",
    "    sent = ''\n",
    "    for token in orgsents[i]:\n",
    "        if token[2] == 'I-ORG':\n",
    "            # if not sent.endswith('|0|'):\n",
    "            sent += ' ' + '[???]' + ' '\n",
    "        else:\n",
    "            if token[0] in '.,!?;:%&*)':\n",
    "                sent += token[0]\n",
    "            else:\n",
    "                sent += f' {token[0]}'\n",
    "    orgsents[i] = sent\n",
    "\n",
    "orgsents[:15]"
   ]
  },
  {
   "cell_type": "code",
   "execution_count": 36,
   "metadata": {},
   "outputs": [
    {
     "data": {
      "text/plain": [
       "1095"
      ]
     },
     "execution_count": 36,
     "metadata": {},
     "output_type": "execute_result"
    }
   ],
   "source": [
    "ressents = []\n",
    "for sent in orgsents:\n",
    "    if 'of the [???]' in sent or 'by [???]' in sent or 'of [???]' in sent or 'in the [???]' in sent or 'in [???]' in sent:\n",
    "        continue\n",
    "    else:\n",
    "        ressents.append(sent)\n",
    "len(ressents)"
   ]
  },
  {
   "cell_type": "code",
   "execution_count": 37,
   "metadata": {},
   "outputs": [],
   "source": [
    "for i in range(len(ressents)):\n",
    "    ressents[i] = ressents[i].replace('  ', ' ')\n",
    "    ressents[i] = ressents[i].replace('[???] [???]', '[???]')"
   ]
  },
  {
   "cell_type": "code",
   "execution_count": 38,
   "metadata": {},
   "outputs": [
    {
     "data": {
      "text/plain": [
       "[' [???] is often cited as an example of anarchism in practice.',\n",
       " ' Studies by the [???] have investigated the relative ( generally warming) effect of albedo change and ( cooling) effect of carbon sequestration on planting forests.']"
      ]
     },
     "execution_count": 38,
     "metadata": {},
     "output_type": "execute_result"
    }
   ],
   "source": [
    "ressents[:2]"
   ]
  },
  {
   "cell_type": "code",
   "execution_count": 39,
   "metadata": {},
   "outputs": [
    {
     "data": {
      "text/plain": [
       "1095"
      ]
     },
     "execution_count": 39,
     "metadata": {},
     "output_type": "execute_result"
    }
   ],
   "source": [
    "len(ressents)"
   ]
  },
  {
   "cell_type": "code",
   "execution_count": 26,
   "metadata": {},
   "outputs": [],
   "source": [
    "for i in range(len(ressents)):\n",
    "    if ' are ' in ressents[i] or ' their ' in ressents[i]:\n",
    "        ressents[i] = ressents[i].replace('[???]', '[companies]')\n",
    "    elif ' party ' in ressents[i]:\n",
    "        ressents[i] = ressents[i].replace('[???]', '[company]')\n",
    "    elif i % 3:\n",
    "        ressents[i] = ressents[i].replace('[???]', '[club]')\n",
    "    else:\n",
    "        ressents[i] = ressents[i].replace('[???]', '[society]')"
   ]
  },
  {
   "cell_type": "code",
   "execution_count": 27,
   "metadata": {},
   "outputs": [
    {
     "data": {
      "text/plain": [
       "[' [society] is often cited as an example of anarchism in practice.',\n",
       " ' Studies by the [club] have investigated the relative ( generally warming) effect of albedo change and ( cooling) effect of carbon sequestration on planting forests.']"
      ]
     },
     "execution_count": 27,
     "metadata": {},
     "output_type": "execute_result"
    }
   ],
   "source": [
    "ressents[:2]"
   ]
  },
  {
   "cell_type": "code",
   "execution_count": 40,
   "metadata": {},
   "outputs": [
    {
     "data": {
      "application/vnd.jupyter.widget-view+json": {
       "model_id": "e3102b18af4e442983d82923c6865896",
       "version_major": 2,
       "version_minor": 0
      },
      "text/plain": [
       "IntProgress(value=1, description='ru:', max=38, min=1, style=ProgressStyle(description_width='initial'))"
      ]
     },
     "metadata": {},
     "output_type": "display_data"
    },
    {
     "data": {
      "application/vnd.jupyter.widget-view+json": {
       "model_id": "2a1242204d114dc3ad5e9494c3c7def3",
       "version_major": 2,
       "version_minor": 0
      },
      "text/plain": [
       "IntProgress(value=1, description='pl:', max=38, min=1, style=ProgressStyle(description_width='initial'))"
      ]
     },
     "metadata": {},
     "output_type": "display_data"
    },
    {
     "data": {
      "application/vnd.jupyter.widget-view+json": {
       "model_id": "0de351dd91204cc38a44a76df8dbf04a",
       "version_major": 2,
       "version_minor": 0
      },
      "text/plain": [
       "IntProgress(value=1, description='be:', max=38, min=1, style=ProgressStyle(description_width='initial'))"
      ]
     },
     "metadata": {},
     "output_type": "display_data"
    },
    {
     "data": {
      "application/vnd.jupyter.widget-view+json": {
       "model_id": "6cd957e686d84d3ca6c8f87bdc0ffa36",
       "version_major": 2,
       "version_minor": 0
      },
      "text/plain": [
       "IntProgress(value=1, description='uk:', max=38, min=1, style=ProgressStyle(description_width='initial'))"
      ]
     },
     "metadata": {},
     "output_type": "display_data"
    },
    {
     "data": {
      "application/vnd.jupyter.widget-view+json": {
       "model_id": "308a604885294606a180d2acef34e2bd",
       "version_major": 2,
       "version_minor": 0
      },
      "text/plain": [
       "IntProgress(value=1, description='bg:', max=38, min=1, style=ProgressStyle(description_width='initial'))"
      ]
     },
     "metadata": {},
     "output_type": "display_data"
    },
    {
     "data": {
      "application/vnd.jupyter.widget-view+json": {
       "model_id": "2547d7d58ac647ff803af83c2402f129",
       "version_major": 2,
       "version_minor": 0
      },
      "text/plain": [
       "IntProgress(value=1, description='sl:', max=38, min=1, style=ProgressStyle(description_width='initial'))"
      ]
     },
     "metadata": {},
     "output_type": "display_data"
    },
    {
     "data": {
      "application/vnd.jupyter.widget-view+json": {
       "model_id": "c2cec67d76ae4324ac670921def72d3c",
       "version_major": 2,
       "version_minor": 0
      },
      "text/plain": [
       "IntProgress(value=1, description='cs:', max=38, min=1, style=ProgressStyle(description_width='initial'))"
      ]
     },
     "metadata": {},
     "output_type": "display_data"
    },
    {
     "data": {
      "application/vnd.jupyter.widget-view+json": {
       "model_id": "0a14ce147c3f4201bce021c3aa3423d7",
       "version_major": 2,
       "version_minor": 0
      },
      "text/plain": [
       "IntProgress(value=1, description='ca:', max=38, min=1, style=ProgressStyle(description_width='initial'))"
      ]
     },
     "metadata": {},
     "output_type": "display_data"
    },
    {
     "data": {
      "application/vnd.jupyter.widget-view+json": {
       "model_id": "06e9d386150045c38bd6bedbc236441e",
       "version_major": 2,
       "version_minor": 0
      },
      "text/plain": [
       "IntProgress(value=1, description='es:', max=38, min=1, style=ProgressStyle(description_width='initial'))"
      ]
     },
     "metadata": {},
     "output_type": "display_data"
    },
    {
     "data": {
      "application/vnd.jupyter.widget-view+json": {
       "model_id": "a413fed5714d4bcd957244db733e6b85",
       "version_major": 2,
       "version_minor": 0
      },
      "text/plain": [
       "IntProgress(value=1, description='tr:', max=38, min=1, style=ProgressStyle(description_width='initial'))"
      ]
     },
     "metadata": {},
     "output_type": "display_data"
    }
   ],
   "source": [
    "orgsents = pack_translate(ressents, 'ORG')"
   ]
  }
 ],
 "metadata": {
  "kernelspec": {
   "display_name": "Python 3.8.10 64-bit",
   "language": "python",
   "name": "python3"
  },
  "language_info": {
   "codemirror_mode": {
    "name": "ipython",
    "version": 3
   },
   "file_extension": ".py",
   "mimetype": "text/x-python",
   "name": "python",
   "nbconvert_exporter": "python",
   "pygments_lexer": "ipython3",
   "version": "3.8.10"
  },
  "orig_nbformat": 4,
  "vscode": {
   "interpreter": {
    "hash": "6eb9e1cf2af2cf6251f1c932a803c6b2f25b1e2cfa2de873853bae064510a498"
   }
  }
 },
 "nbformat": 4,
 "nbformat_minor": 2
}
