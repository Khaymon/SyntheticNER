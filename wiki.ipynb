{
 "cells": [
  {
   "cell_type": "code",
   "execution_count": 9,
   "metadata": {},
   "outputs": [],
   "source": [
    "import wikipediaapi\n",
    "import time\n",
    "import re\n",
    "import pickle\n",
    "from ipywidgets import IntText, Text, Box\n",
    "from IPython.display import display"
   ]
  },
  {
   "cell_type": "code",
   "execution_count": 57,
   "metadata": {},
   "outputs": [],
   "source": [
    "class Harvester:\n",
    "    def __init__(self, rsize):\n",
    "        self.rsize = rsize\n",
    "        self.res = set()\n",
    "        self.resdict = []\n",
    "        self.lookup = set()\n",
    "\n",
    "    def _harvester(self, member, *, wiki_wiki, word, percent, text, gender, check=False):\n",
    "        \"\"\"\n",
    "        member - wiki page title\n",
    "        wiki_wiki - language for wiki\n",
    "        res - final set of entities\n",
    "        check - regular expression with a list of undesired subcategories like 'inhabitants' inside a city category or False if you don't want to check anything\n",
    "        percent - technical variable for rendering the progress\n",
    "        text - technical variable for rendering current category\n",
    "        \"\"\"\n",
    "        if len(self.res) >= self.rsize:\n",
    "            return \n",
    "        time.sleep(1)\n",
    "        cat = wiki_wiki.page(member.title)\n",
    "        try:\n",
    "            for p in cat.categorymembers.values():\n",
    "                if check:\n",
    "                    if not (re.search(check, p.title) or p.title in self.lookup):  # we don't want to go inside an unwanted subcategory\n",
    "                        text.value = p.title\n",
    "                        self.lookup.add(p.title)\n",
    "                        self._harvester(p, wiki_wiki=wiki_wiki, word=word, check=check, percent=percent,gender=gender,  text=text)\n",
    "                else:\n",
    "                    self._harvester(p, wiki_wiki=wiki_wiki, word=word, check=check, percent=percent, gender=gender, text=text)\n",
    "        except KeyError:\n",
    "            if re.search(r'(?i)\\b(список|спіс|spis|lista|kategoria|катэгорыя|категор[іи]я|відносини)\\b', member.title):  # universal check for unwanted pages\n",
    "                return    \n",
    "            try:\n",
    "                for key in member.categories.keys():\n",
    "                    if re.search(word, key):\n",
    "                        langlinks = member.langlinks\n",
    "                        middle = {'be': member.title}\n",
    "                        for lr in ['bg', 'ca', 'cs', 'en', 'es', 'pl', 'ru', 'sl', 'tr', 'uk']:\n",
    "                            v = langlinks.get(lr)\n",
    "                            if not v: \n",
    "                                text.value = f'{member.title} has no {lr}'\n",
    "                                return\n",
    "                            elif v:\n",
    "                                middle[lr] = langlinks.get(lr).title\n",
    "                        for k in member.categories.keys():\n",
    "                            if re.search(gender, k):\n",
    "                                middle['gender'] = 'f'\n",
    "                                break\n",
    "                        else:\n",
    "                            middle['gender'] = 'm'\n",
    "                        if member.title not in self.res:\n",
    "                            self.res.add(member.title)\n",
    "                            self.resdict.append(middle)\n",
    "                        percent.value = len(self.res)\n",
    "                        return \n",
    "                    else:\n",
    "                        continue  \n",
    "            except:\n",
    "                return \n",
    "\n",
    "    def harvest(self, *, lang, category, word, gender, check=False):\n",
    "        '''Wrapper function for harverster with check'''\n",
    "        wiki_wiki = wikipediaapi.Wikipedia(lang)\n",
    "        cat = wiki_wiki.page(category)\n",
    "\n",
    "        percent = IntText(value=0, disabled=True)\n",
    "        text = Text(value=None, disabled=True)\n",
    "        box = Box(children=[percent, text])\n",
    "        display(box)\n",
    "        \n",
    "        self._harvester(cat, wiki_wiki=wiki_wiki, word=word, check=check, percent=percent, gender=gender, text=text)\n",
    "\n",
    "    def writeres(self, lang, type):\n",
    "        pickle.dump(self.resdict, open(f'names/{lang}_{type}_{len(self.res)}', 'wb'))\n",
    "\n",
    "    def showres(self, to_show):\n",
    "        i = 0\n",
    "        for key in self.resdict:\n",
    "            if i >= to_show:\n",
    "                break\n",
    "            i += 1\n",
    "            for k, v in key.items():\n",
    "                print(k, v, sep=': ', end='\\t')\n",
    "                print()\n",
    "\n",
    "    def results(self):\n",
    "        return self.res\n",
    "\n",
    "    def renew(self):\n",
    "        self.res = set()\n",
    "\n",
    "    def help(self):\n",
    "        print('Use harvest function. Variables: lang=language, category=head category to start, word=check word for final entity addition, check(optional)=regular expression for filtering subcategories')"
   ]
  },
  {
   "cell_type": "markdown",
   "metadata": {},
   "source": [
    "**PER entities**"
   ]
  },
  {
   "cell_type": "code",
   "execution_count": 60,
   "metadata": {},
   "outputs": [
    {
     "data": {
      "application/vnd.jupyter.widget-view+json": {
       "model_id": "85ac12a9649d4df6b948a39545bc6577",
       "version_major": 2,
       "version_minor": 0
      },
      "text/plain": [
       "Box(children=(IntText(value=0, disabled=True), Text(value='', disabled=True)))"
      ]
     },
     "metadata": {},
     "output_type": "display_data"
    },
    {
     "name": "stdout",
     "output_type": "stream",
     "text": [
      "be: Джон Браўн\t\n",
      "bg: Джон Браун\t\n",
      "ca: John Brown (abolicionista)\t\n",
      "cs: John Brown\t\n",
      "en: John Brown (abolitionist)\t\n",
      "es: John Brown (abolicionista)\t\n",
      "pl: John Brown\t\n",
      "ru: Браун, Джон (аболиционист)\t\n",
      "sl: John Brown (abolicionist)\t\n",
      "tr: John Brown (lider)\t\n",
      "uk: Джон Браун\t\n",
      "gender: m\t\n",
      "be: Фрыдрых Вёлер\t\n",
      "bg: Фридрих Вьолер\t\n",
      "ca: Friedrich Wöhler\t\n",
      "cs: Friedrich Wöhler\t\n",
      "en: Friedrich Wöhler\t\n",
      "es: Friedrich Wöhler\t\n",
      "pl: Friedrich Wöhler\t\n",
      "ru: Вёлер, Фридрих\t\n",
      "sl: Friedrich Wöhler\t\n",
      "tr: Friedrich Wöhler\t\n",
      "uk: Фрідріх Велер\t\n",
      "gender: m\t\n",
      "be: Гельмут Карл Бернхард фон Мольтке (старэйшы)\t\n",
      "bg: Хелмут фон Молтке Старши\t\n",
      "ca: Helmuth von Moltke\t\n",
      "cs: Helmuth von Moltke starší\t\n",
      "en: Helmuth von Moltke the Elder\t\n",
      "es: Helmuth Karl Bernhard von Moltke\t\n",
      "pl: Helmuth Karl Bernhard von Moltke\t\n",
      "ru: Мольтке, Хельмут Карл Бернхард фон\t\n",
      "sl: Helmuth Karl Bernhard von Moltke\t\n",
      "tr: Helmuth Karl Bernhard von Moltke\t\n",
      "uk: Гельмут Карл Бернхард фон Мольтке\t\n",
      "gender: m\t\n",
      "be: Францэ Прашэрн\t\n",
      "bg: Франце Прешерн\t\n",
      "ca: France Prešeren\t\n",
      "cs: France Prešeren\t\n",
      "en: France Prešeren\t\n",
      "es: France Prešeren\t\n",
      "pl: France Prešeren\t\n",
      "ru: Прешерн, Франце\t\n",
      "sl: France Prešeren\t\n",
      "tr: France Prešeren\t\n",
      "uk: Франце Прешерен\t\n",
      "gender: m\t\n",
      "be: Джэймс Кларк Рос\t\n",
      "bg: Джеймс Кларк Рос\t\n",
      "ca: James Clark Ross\t\n",
      "cs: James Clark Ross\t\n",
      "en: James Clark Ross\t\n",
      "es: James Clark Ross\t\n",
      "pl: James Clark Ross\t\n",
      "ru: Росс, Джеймс Кларк\t\n",
      "sl: James Clark Ross\t\n",
      "tr: James Clark Ross\t\n",
      "uk: Джеймс Кларк Росс\t\n",
      "gender: m\t\n",
      "be: Мілард Філмар\t\n",
      "bg: Милърд Филмор\t\n",
      "ca: Millard Fillmore\t\n",
      "cs: Millard Fillmore\t\n",
      "en: Millard Fillmore\t\n",
      "es: Millard Fillmore\t\n",
      "pl: Millard Fillmore\t\n",
      "ru: Филлмор, Миллард\t\n",
      "sl: Millard Fillmore\t\n",
      "tr: Millard Fillmore\t\n",
      "uk: Міллард Філлмор\t\n",
      "gender: m\t\n",
      "be: Міхаіл Васільевіч Астраградскі\t\n",
      "bg: Михаил Остроградски\t\n",
      "ca: Mikhaïl Ostrogradski\t\n",
      "cs: Michail Vasiljevič Ostrogradskij\t\n",
      "en: Mikhail Ostrogradsky\t\n",
      "es: Mijaíl Ostrogradski\t\n",
      "pl: Michaił Ostrogradski\t\n",
      "ru: Остроградский, Михаил Васильевич\t\n",
      "sl: Mihail Vasiljevič Ostrogradski\t\n",
      "tr: Mihail Ostrogradski\t\n",
      "uk: Остроградський Михайло Васильович\t\n",
      "gender: m\t\n",
      "be: Вінчэнца Беліні\t\n",
      "bg: Винченцо Белини\t\n",
      "ca: Vincenzo Bellini\t\n",
      "cs: Vincenzo Bellini\t\n",
      "en: Vincenzo Bellini\t\n",
      "es: Vincenzo Bellini\t\n",
      "pl: Vincenzo Bellini\t\n",
      "ru: Беллини, Винченцо\t\n",
      "sl: Vincenzo Bellini\t\n",
      "tr: Vincenzo Bellini\t\n",
      "uk: Вінченцо Белліні\t\n",
      "gender: m\t\n",
      "be: Уладзімір Іванавіч Даль\t\n",
      "bg: Владимир Дал\t\n",
      "ca: Vladímir Dal\t\n",
      "cs: Vladimir Dal\t\n",
      "en: Vladimir Dal\t\n",
      "es: Vladímir Dal\t\n",
      "pl: Władimir Dal\t\n",
      "ru: Даль, Владимир Иванович\t\n",
      "sl: Vladimir Ivanovič Dalj\t\n",
      "tr: Vladimir Dal\t\n",
      "uk: Даль Володимир Іванович\t\n",
      "gender: m\t\n",
      "be: Томас Коўл\t\n",
      "bg: Томас Коул\t\n",
      "ca: Thomas Cole\t\n",
      "cs: Thomas Cole\t\n",
      "en: Thomas Cole\t\n",
      "es: Thomas Cole\t\n",
      "pl: Thomas Cole\t\n",
      "ru: Коул, Томас\t\n",
      "sl: Thomas Cole\t\n",
      "tr: Thomas Cole\t\n",
      "uk: Томас Коул\t\n",
      "gender: m\t\n"
     ]
    }
   ],
   "source": [
    "worker = Harvester(3000)\n",
    "worker.renew() \n",
    "worker.harvest(lang='be', category='Катэгорыя:Нарадзіліся ў XIX стагоддзі', word='[Нн]арадзіліся', gender=re.compile(r'(?i)жанчыны|жонкі|\\wенкі\\b|\\wісткі\\b|\\wніцы\\b|\\wіні\\b|прынцэсы|актрысы|куртызанкі|прастытуткі|натуршчыцы|манашкі|\\wчыцы\\b'))\n",
    "worker.writeres('be', 'per')\n",
    "worker.showres(10)"
   ]
  },
  {
   "cell_type": "code",
   "execution_count": null,
   "metadata": {},
   "outputs": [],
   "source": [
    "worker = Harvester(10)\n",
    "worker.renew()\n",
    "worker.harvest(lang='pl', category='Kategoria:Wokalistki popowe', word='[uU]rodzeni', gender=re.compile(r'(?i)bokserki|kobiety|\\wstki\\b|iczki\\b|[aeo]rki\\b|damy|[aes][nt]ki\\b|zakonnice|inie\\b|żony|cezarzowe|królowe'))\n",
    "worker.writeres('pl', 'per')\n",
    "worker.showres(10)"
   ]
  },
  {
   "cell_type": "code",
   "execution_count": null,
   "metadata": {},
   "outputs": [],
   "source": [
    "worker = Harvester(5000)\n",
    "\n",
    "# ru\n",
    "\n",
    "worker.harvest(lang='ru', category='Категория:Родившиеся в XX веке', word='родившиеся')\n",
    "worker.writeres('ru', 'per')\n",
    "\n",
    "# be\n",
    "\n",
    "worker.renew()\n",
    "worker.harvest(lang='be', category='Катэгорыя:Нарадзіліся ў XX стагоддзі', word='нарадзіліся')\n",
    "worker.writeres('be', 'per')\n",
    "\n",
    "# uk\n",
    "\n",
    "worker.renew()\n",
    "worker.harvest(lang='uk', category='Категорія:Народились у 20 столітті', word='народил')\n",
    "worker.writeres('uk', 'per')\n",
    "\n",
    "# pl\n",
    "\n",
    "worker.renew()\n",
    "worker.harvest(lang='pl', category='Kategoria:Urodzeni w XX wieku', word='urodzeni')\n",
    "worker.writeres('pl', 'per')"
   ]
  },
  {
   "cell_type": "markdown",
   "metadata": {},
   "source": [
    "**LOC entities**"
   ]
  },
  {
   "cell_type": "code",
   "execution_count": 4,
   "metadata": {},
   "outputs": [],
   "source": [
    "worker = Harvester(3000)"
   ]
  },
  {
   "cell_type": "code",
   "execution_count": null,
   "metadata": {},
   "outputs": [],
   "source": [
    "worker.harvest(lang='be', category='Катэгорыя:Дзяржавы паводле алфавіта', word='дзяржавы')\n",
    "cities = re.compile(r'Архітэктура|Гісторыя|Постаці|Адукацыя|Арганізацыі|Вуліцы|Культура|Паркі|Спорт|Транспарт')\n",
    "worker.harvest(lang='be', category='Катэгорыя:Сталіцы', word='гарады', check=cities)\n",
    "worker.writeres('be', 'loc')"
   ]
  },
  {
   "cell_type": "code",
   "execution_count": 19,
   "metadata": {},
   "outputs": [
    {
     "data": {
      "application/vnd.jupyter.widget-view+json": {
       "model_id": "a0fd222f5712415db9d09d94a0b918aa",
       "version_major": 2,
       "version_minor": 0
      },
      "text/plain": [
       "Box(children=(IntText(value=0, disabled=True), Text(value='', disabled=True)))"
      ]
     },
     "metadata": {},
     "output_type": "display_data"
    },
    {
     "name": "stdout",
     "output_type": "stream",
     "text": [
      "cities\n"
     ]
    },
    {
     "data": {
      "application/vnd.jupyter.widget-view+json": {
       "model_id": "78c9aec9e8bf451086964e02f6113db3",
       "version_major": 2,
       "version_minor": 0
      },
      "text/plain": [
       "Box(children=(IntText(value=0, disabled=True), Text(value='', disabled=True)))"
      ]
     },
     "metadata": {},
     "output_type": "display_data"
    }
   ],
   "source": [
    "countries = re.compile(r'(?i)Колишні|Географі|Футбол|Кавалери|монархі|Геологі|Іспанці|Святий Престол|Економі|Історія|Еміратів|Округи|Нагірний Карабах|Дипломати|Посли|орден|Біота|копалини|Культ|Померли|Уродженці|Підприємства|Політи[кч]|Транспорт|Уряди|Незавершені статті|Збройні сили|Зображення|Населення|Наук|Персоналії|Природа|Списки|Спорт|Суспільство|Шаблони|Фауна|Портал|Столиці|Архітектура|Історичні|діаспора|Військові|Категорії|Окуповані|Право|Вікіпроєкт|Інтернет|Французи|Чехи|Шведи|Японці|Фільми|поділ|Гідрографія|Рельєф|Штати|Державна влада|Відносини|Техніка|символи|Міс[тц]|Села|Учасники|Фортеці|мова|Регіони|райони')\n",
    "worker.harvest(lang='uk', category='Категорія:Країни за континентом', word='країни', check=countries)\n",
    "print('cities')\n",
    "cities = re.compile(r'Архітектура|Географія|Історія|Кавалери|Культ|Освіта|Святий Престол|Персоналії|Підприємства|Спорт|Транспорт|Померли|Уродженці|орден|Випускники|Дипломати|Шаблони|Списки|Вулиці|Зображення|Організації|Парки|Площі|Райони|Туризм|Цвинтарі|Портал|Незавершені статті|Військові формування|Економіка|Медицина|Населення|Наук|Об\\'єкти|Політи[кч]|Природа|Суди|поділ|ЗМІ|діаспора|Релігія|Романи|Квартали|місц|заклади|академи|університ|споруди')\n",
    "worker.harvest(lang='uk', category='Категорія:Столиці', word='столиці', check=cities)\n",
    "worker.writeres('uk', 'loc')"
   ]
  },
  {
   "cell_type": "code",
   "execution_count": null,
   "metadata": {},
   "outputs": [],
   "source": [
    "worker.renew()\n",
    "countries = re.compile(r'historyczne|Kategorie|Ludzie|Architektura|Geografia|Gospodarka|Historia|Kultura|Polityka|Sport|Stosunki|Symbole|Etnografia|[Pp]odział|Geologia|Meksykanie|odznaczenia|Nauka|Turystyka|Wojsko|ńskie|Zagadnienia|Edukacja|[pP]rzyrod|Prawo|Siły Zbrojne|Społeczeństwo|Superkomputery|Wydarzenia|Sztuka|Stolice|Flagi|Język|Biblioteka|Konklawe|Media|Poch[oó]w|Utwory|Szablony|Herby|Klasztory|[oO]rganizacje|Oświata|Parki|Policja|Samorząd|Armie|Filmy|Konflikt|Politycy|Prasa|Rada|Adwokatura|Krajoznawstwo|Konserwatyzm|Ochrona|Stereotypy|Urbanistyka|Więziennictwo|Miejsca')\n",
    "worker.harvest(lang='pl', category='Kategoria:Państwa według kontynentów', word='państwa', check=countries)\n",
    "cities = re.compile(r'Ludzie|Igrzyska|Obiekty|Religia')\n",
    "worker.harvest(lang='pl', category='Kategoria:Stolice', word='miasta', check=cities)\n",
    "worker.writeres('pl', 'loc')"
   ]
  },
  {
   "cell_type": "code",
   "execution_count": null,
   "metadata": {},
   "outputs": [],
   "source": [
    "worker.renew()\n",
    "worker.harvest(lang='ru', category='Категория:Государства по алфавиту', word='государств')\n",
    "countries = re.compile(r'(?i)География|уезды|Здания|сооружения|История|Культура|Организации|Персоналии|Районы|Спорт|университет|Небоскрёбы|Компании|деление|Транспорт|заведения|Образование|транспорт')\n",
    "worker.harvest(lang='ru', category='Категория:Города-миллионеры по странам', word='города')\n",
    "worker.writeres('ru', 'loc')"
   ]
  },
  {
   "cell_type": "markdown",
   "metadata": {},
   "source": [
    "ORG entities"
   ]
  },
  {
   "cell_type": "code",
   "execution_count": 8,
   "metadata": {},
   "outputs": [],
   "source": [
    "worker = Harvester(1000)"
   ]
  },
  {
   "cell_type": "code",
   "execution_count": 4,
   "metadata": {},
   "outputs": [
    {
     "data": {
      "application/vnd.jupyter.widget-view+json": {
       "model_id": "857b0ab667fa4cddbd963bbdeb87a255",
       "version_major": 2,
       "version_minor": 0
      },
      "text/plain": [
       "Box(children=(IntText(value=0, disabled=True), Text(value='', disabled=True)))"
      ]
     },
     "metadata": {},
     "output_type": "display_data"
    }
   ],
   "source": [
    "#be\n",
    "\n",
    "worker.renew()\n",
    "# checker = re.compile(r'')\n",
    "worker.harvest(lang='be', category='Катэгорыя:Арганізацыі паводле алфавіта', word=re.compile('заснаваныя|арганізацыі|калектывы'))\n",
    "worker.writeres('be', 'org')"
   ]
  },
  {
   "cell_type": "code",
   "execution_count": 5,
   "metadata": {},
   "outputs": [
    {
     "data": {
      "application/vnd.jupyter.widget-view+json": {
       "model_id": "ae9b2eeebf744cc2816bff0561367941",
       "version_major": 2,
       "version_minor": 0
      },
      "text/plain": [
       "Box(children=(IntText(value=0, disabled=True), Text(value='', disabled=True)))"
      ]
     },
     "metadata": {},
     "output_type": "display_data"
    },
    {
     "data": {
      "application/vnd.jupyter.widget-view+json": {
       "model_id": "b4540bbafa914a978af2e825670478ee",
       "version_major": 2,
       "version_minor": 0
      },
      "text/plain": [
       "Box(children=(IntText(value=0, disabled=True), Text(value='', disabled=True)))"
      ]
     },
     "metadata": {},
     "output_type": "display_data"
    }
   ],
   "source": [
    "#uk\n",
    "\n",
    "worker.renew()\n",
    "checker = re.compile(r'(?i)Члени|Викладачі|Випускники|Учні|Науковці|Ректори|Військові|НАТО|Люди|фільми|програми|\\w+істи|Єпископи|Вікаріати|Єпархії|Монастирі|Нагороди|Священники|храми|Персоналії')\n",
    "worker.harvest(lang='uk', category='Категорія:Організації, засновані у XX столітті', word='засновані', check=checker)\n",
    "worker.harvest(lang='uk', category='Категорія:Організації, засновані у XXI столітті', word='засновані', check=checker)\n",
    "worker.writeres('uk', 'org')"
   ]
  },
  {
   "cell_type": "code",
   "execution_count": null,
   "metadata": {},
   "outputs": [],
   "source": [
    "#ru\n",
    "\n",
    "worker.renew()\n",
    "checker = re.compile(r'(?i)монастыри|учебные|библиотеки|театры')\n",
    "worker.harvest(lang='ru', category='Категория:Организации, основанные в XX веке', word='основанные', check=checker)\n",
    "# worker.harvest(lang='uk', category='Категорія:Організації, засновані у XXI столітті', word='організації', check=checker)\n",
    "worker.writeres('ru', 'org')"
   ]
  },
  {
   "cell_type": "code",
   "execution_count": 8,
   "metadata": {},
   "outputs": [
    {
     "data": {
      "application/vnd.jupyter.widget-view+json": {
       "model_id": "bba47a9c1248476fae7b851bd96c400c",
       "version_major": 2,
       "version_minor": 0
      },
      "text/plain": [
       "Box(children=(IntText(value=0, disabled=True), Text(value='', disabled=True)))"
      ]
     },
     "metadata": {},
     "output_type": "display_data"
    }
   ],
   "source": [
    "#pl\n",
    "\n",
    "worker.renew()\n",
    "checker = re.compile(r'(?i)Kustosz|Ludzie|Lustracja|Periodyki|Pracownicy|Członk|ratownicze|muzea|Działacze|Żołnierze|sportowe|teatry|Nieistniejące|Szkoły|Legiony|Politycy|Bitwy|Odznaczeni|Ofiary|Okręgi|Prasa|Oddział|według|absolwenci|Wykładowcy|Rektorzy|bibliotek')\n",
    "worker.harvest(lang='pl', category='Kategoria:Organizacje według państw', word='(?i)organizacje|partie|przedsiębiorstwa|stowarzyszenia|fundacje|Instytuty', check=checker)\n",
    "# checker = re.compile(r'(?i)Kustosz|Ludzie|Lustracja|Periodyki|Pracownicy|Członkowie|Działacze|Politycy|Nieistniejące|Żołnierze|Bitwy|Ofiary|Okręgi|Prasa|Oddział')\n",
    "# worker.harvest(lang='pl', category='Kategoria:Partie i ugrupowania według państw', word='(?i)partie', check=checker)\n",
    "worker.writeres('pl', 'org')"
   ]
  },
  {
   "cell_type": "code",
   "execution_count": 10,
   "metadata": {},
   "outputs": [],
   "source": [
    "worker.writeres('ru', 'org')"
   ]
  },
  {
   "cell_type": "markdown",
   "metadata": {},
   "source": [
    "Parallel entities"
   ]
  },
  {
   "cell_type": "code",
   "execution_count": 2,
   "metadata": {},
   "outputs": [],
   "source": [
    "def get_parallels(targets, lrs, ld):\n",
    "    wiki_wiki = wikipediaapi.Wikipedia(ld)\n",
    "    res = []\n",
    "    for target in targets:\n",
    "        middle = {ld: target}\n",
    "        page = wiki_wiki.page(target)\n",
    "        langlinks = page.langlinks\n",
    "        for lr in lrs:\n",
    "            v = langlinks.get(lr)\n",
    "            if v:\n",
    "                middle[lr] = langlinks.get(lr).title\n",
    "            else:\n",
    "                middle[lr] = None\n",
    "        res.append(middle)\n",
    "    return res"
   ]
  },
  {
   "cell_type": "code",
   "execution_count": 3,
   "metadata": {},
   "outputs": [],
   "source": [
    "br = pickle.load(open(r'names\\be_loc_575', 'rb'))"
   ]
  },
  {
   "cell_type": "code",
   "execution_count": 4,
   "metadata": {},
   "outputs": [],
   "source": [
    "langs = get_parallels(br, ['ru', 'pl', 'uk'], 'be')"
   ]
  }
 ],
 "metadata": {
  "kernelspec": {
   "display_name": "Python 3.8.10 64-bit",
   "language": "python",
   "name": "python3"
  },
  "language_info": {
   "codemirror_mode": {
    "name": "ipython",
    "version": 3
   },
   "file_extension": ".py",
   "mimetype": "text/x-python",
   "name": "python",
   "nbconvert_exporter": "python",
   "pygments_lexer": "ipython3",
   "version": "3.8.10"
  },
  "orig_nbformat": 4,
  "vscode": {
   "interpreter": {
    "hash": "6eb9e1cf2af2cf6251f1c932a803c6b2f25b1e2cfa2de873853bae064510a498"
   }
  }
 },
 "nbformat": 4,
 "nbformat_minor": 2
}
